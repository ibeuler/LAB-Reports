{
 "cells": [
  {
   "cell_type": "code",
   "execution_count": 1,
   "metadata": {},
   "outputs": [],
   "source": [
    "import numpy as np\n",
    "import matplotlib.pyplot as plt\n",
    "import sklearn\n",
    "from sklearn.linear_model import LinearRegression\n",
    "from sklearn.preprocessing import PolynomialFeatures\n",
    "import pint\n",
    "import os\n",
    "import pandas as pd"
   ]
  },
  {
   "cell_type": "code",
   "execution_count": 2,
   "metadata": {},
   "outputs": [],
   "source": [
    "unit = pint.UnitRegistry()"
   ]
  },
  {
   "cell_type": "markdown",
   "metadata": {},
   "source": [
    "# Part 1"
   ]
  },
  {
   "cell_type": "code",
   "execution_count": 46,
   "metadata": {},
   "outputs": [],
   "source": [
    "data = np.array([\n",
    "    [4.7, 10, 31.6, 68.4, 0.47, 4.62e-1],\n",
    "    [0.33, 0.15, 68.6, 31.4, 2.2, 2.185]\n",
    "]) * np.array([unit.kiloohm, unit.kiloohm, unit.centimeter, unit.centimeter, unit.dimensionless, unit.dimensionless  ])\n",
    "TABLE_2_6_df = pd.DataFrame(data, columns=[r\"$R_1 (k\\Omega)$\",r\"$R_4 (k\\Omega)$\", r\"$L_2 (cm)$\",r\"$L_3 (cm)$\" , r\"$\\frack{R_1}{R_4}$\", r\"$\\frack{L_2}{L_3}$\"])"
   ]
  },
  {
   "cell_type": "code",
   "execution_count": 48,
   "metadata": {},
   "outputs": [
    {
     "data": {
      "text/html": [
       "<div>\n",
       "<style scoped>\n",
       "    .dataframe tbody tr th:only-of-type {\n",
       "        vertical-align: middle;\n",
       "    }\n",
       "\n",
       "    .dataframe tbody tr th {\n",
       "        vertical-align: top;\n",
       "    }\n",
       "\n",
       "    .dataframe thead th {\n",
       "        text-align: right;\n",
       "    }\n",
       "</style>\n",
       "<table border=\"1\" class=\"dataframe\">\n",
       "  <thead>\n",
       "    <tr style=\"text-align: right;\">\n",
       "      <th></th>\n",
       "      <th>$R_1 (k\\Omega)$</th>\n",
       "      <th>$R_4 (k\\Omega)$</th>\n",
       "      <th>$L_2 (cm)$</th>\n",
       "      <th>$L_3 (cm)$</th>\n",
       "      <th>$\\frack{R_1}{R_4}$</th>\n",
       "      <th>$\\frack{L_2}{L_3}$</th>\n",
       "    </tr>\n",
       "  </thead>\n",
       "  <tbody>\n",
       "    <tr>\n",
       "      <th>0</th>\n",
       "      <td>4.7 kiloohm</td>\n",
       "      <td>10.0 kiloohm</td>\n",
       "      <td>31.6 centimeter</td>\n",
       "      <td>68.4 centimeter</td>\n",
       "      <td>0.47 dimensionless</td>\n",
       "      <td>0.462 dimensionless</td>\n",
       "    </tr>\n",
       "    <tr>\n",
       "      <th>1</th>\n",
       "      <td>0.33 kiloohm</td>\n",
       "      <td>0.15 kiloohm</td>\n",
       "      <td>68.6 centimeter</td>\n",
       "      <td>31.4 centimeter</td>\n",
       "      <td>2.2 dimensionless</td>\n",
       "      <td>2.185 dimensionless</td>\n",
       "    </tr>\n",
       "  </tbody>\n",
       "</table>\n",
       "</div>"
      ],
      "text/plain": [
       "  $R_1 (k\\Omega)$ $R_4 (k\\Omega)$       $L_2 (cm)$       $L_3 (cm)$  \\\n",
       "0     4.7 kiloohm    10.0 kiloohm  31.6 centimeter  68.4 centimeter   \n",
       "1    0.33 kiloohm    0.15 kiloohm  68.6 centimeter  31.4 centimeter   \n",
       "\n",
       "   $\\frack{R_1}{R_4}$   $\\frack{L_2}{L_3}$  \n",
       "0  0.47 dimensionless  0.462 dimensionless  \n",
       "1   2.2 dimensionless  2.185 dimensionless  "
      ]
     },
     "execution_count": 48,
     "metadata": {},
     "output_type": "execute_result"
    }
   ],
   "source": [
    "TABLE_2_6_df "
   ]
  },
  {
   "cell_type": "markdown",
   "metadata": {},
   "source": [
    "# Part 2"
   ]
  },
  {
   "cell_type": "code",
   "execution_count": 69,
   "metadata": {},
   "outputs": [],
   "source": [
    "TABLE_2_7 = np.array([\n",
    "    [1, 61.6, 38.4, 1.6, 1],\n",
    "    [0.7, 43.5, 56.5, 0.77, 1],\n",
    "    [0.5, 28.5, 71.5, 3.986e-1, 1],\n",
    "    [0.35, 15.8, 84.2, 1.88e-1, 1], \n",
    "]) *  np.array([unit.millimeter, unit.centimeter, unit.centimeter, 1/unit.ohm, unit.ohm ]) \n",
    "# ! 1/ ohm is putten due to our misscalculation in table 2.7 on lab manual.\n",
    "\n",
    "TABLE_2_7_df = pd.DataFrame(TABLE_2_7, columns=[r\"$d (mm)$\", r\"$L_2 (cm)$\",r\"$L_3 (cm)$\" , r\"$R_1 (Calculated)$\", r\"$R_4$\"])\n"
   ]
  },
  {
   "cell_type": "code",
   "execution_count": 70,
   "metadata": {},
   "outputs": [
    {
     "data": {
      "text/html": [
       "<div>\n",
       "<style scoped>\n",
       "    .dataframe tbody tr th:only-of-type {\n",
       "        vertical-align: middle;\n",
       "    }\n",
       "\n",
       "    .dataframe tbody tr th {\n",
       "        vertical-align: top;\n",
       "    }\n",
       "\n",
       "    .dataframe thead th {\n",
       "        text-align: right;\n",
       "    }\n",
       "</style>\n",
       "<table border=\"1\" class=\"dataframe\">\n",
       "  <thead>\n",
       "    <tr style=\"text-align: right;\">\n",
       "      <th></th>\n",
       "      <th>$d (mm)$</th>\n",
       "      <th>$L_2 (cm)$</th>\n",
       "      <th>$L_3 (cm)$</th>\n",
       "      <th>$R_1 (Calculated)$</th>\n",
       "      <th>$R_4$</th>\n",
       "    </tr>\n",
       "  </thead>\n",
       "  <tbody>\n",
       "    <tr>\n",
       "      <th>0</th>\n",
       "      <td>1.0 millimeter</td>\n",
       "      <td>61.6 centimeter</td>\n",
       "      <td>38.4 centimeter</td>\n",
       "      <td>1.6 / ohm</td>\n",
       "      <td>1.0 ohm</td>\n",
       "    </tr>\n",
       "    <tr>\n",
       "      <th>1</th>\n",
       "      <td>0.7 millimeter</td>\n",
       "      <td>43.5 centimeter</td>\n",
       "      <td>56.5 centimeter</td>\n",
       "      <td>0.77 / ohm</td>\n",
       "      <td>1.0 ohm</td>\n",
       "    </tr>\n",
       "    <tr>\n",
       "      <th>2</th>\n",
       "      <td>0.5 millimeter</td>\n",
       "      <td>28.5 centimeter</td>\n",
       "      <td>71.5 centimeter</td>\n",
       "      <td>0.3986 / ohm</td>\n",
       "      <td>1.0 ohm</td>\n",
       "    </tr>\n",
       "    <tr>\n",
       "      <th>3</th>\n",
       "      <td>0.35 millimeter</td>\n",
       "      <td>15.8 centimeter</td>\n",
       "      <td>84.2 centimeter</td>\n",
       "      <td>0.188 / ohm</td>\n",
       "      <td>1.0 ohm</td>\n",
       "    </tr>\n",
       "  </tbody>\n",
       "</table>\n",
       "</div>"
      ],
      "text/plain": [
       "          $d (mm)$       $L_2 (cm)$       $L_3 (cm)$ $R_1 (Calculated)$  \\\n",
       "0   1.0 millimeter  61.6 centimeter  38.4 centimeter          1.6 / ohm   \n",
       "1   0.7 millimeter  43.5 centimeter  56.5 centimeter         0.77 / ohm   \n",
       "2   0.5 millimeter  28.5 centimeter  71.5 centimeter       0.3986 / ohm   \n",
       "3  0.35 millimeter  15.8 centimeter  84.2 centimeter        0.188 / ohm   \n",
       "\n",
       "     $R_4$  \n",
       "0  1.0 ohm  \n",
       "1  1.0 ohm  \n",
       "2  1.0 ohm  \n",
       "3  1.0 ohm  "
      ]
     },
     "execution_count": 70,
     "metadata": {},
     "output_type": "execute_result"
    }
   ],
   "source": [
    "TABLE_2_7_df"
   ]
  },
  {
   "cell_type": "code",
   "execution_count": 71,
   "metadata": {},
   "outputs": [
    {
     "data": {
      "text/html": [
       "<div>\n",
       "<style scoped>\n",
       "    .dataframe tbody tr th:only-of-type {\n",
       "        vertical-align: middle;\n",
       "    }\n",
       "\n",
       "    .dataframe tbody tr th {\n",
       "        vertical-align: top;\n",
       "    }\n",
       "\n",
       "    .dataframe thead th {\n",
       "        text-align: right;\n",
       "    }\n",
       "</style>\n",
       "<table border=\"1\" class=\"dataframe\">\n",
       "  <thead>\n",
       "    <tr style=\"text-align: right;\">\n",
       "      <th></th>\n",
       "      <th>$d (mm)$</th>\n",
       "      <th>$L_2 (cm)$</th>\n",
       "      <th>$L_3 (cm)$</th>\n",
       "      <th>$R_1 (Calculated)$</th>\n",
       "      <th>$R_4$</th>\n",
       "    </tr>\n",
       "  </thead>\n",
       "  <tbody>\n",
       "    <tr>\n",
       "      <th>0</th>\n",
       "      <td>1.0 millimeter</td>\n",
       "      <td>61.6 centimeter</td>\n",
       "      <td>38.4 centimeter</td>\n",
       "      <td>0.625 ohm</td>\n",
       "      <td>1.0 ohm</td>\n",
       "    </tr>\n",
       "    <tr>\n",
       "      <th>1</th>\n",
       "      <td>0.7 millimeter</td>\n",
       "      <td>43.5 centimeter</td>\n",
       "      <td>56.5 centimeter</td>\n",
       "      <td>1.2987012987012987 ohm</td>\n",
       "      <td>1.0 ohm</td>\n",
       "    </tr>\n",
       "    <tr>\n",
       "      <th>2</th>\n",
       "      <td>0.5 millimeter</td>\n",
       "      <td>28.5 centimeter</td>\n",
       "      <td>71.5 centimeter</td>\n",
       "      <td>2.5087807325639737 ohm</td>\n",
       "      <td>1.0 ohm</td>\n",
       "    </tr>\n",
       "    <tr>\n",
       "      <th>3</th>\n",
       "      <td>0.35 millimeter</td>\n",
       "      <td>15.8 centimeter</td>\n",
       "      <td>84.2 centimeter</td>\n",
       "      <td>5.319148936170213 ohm</td>\n",
       "      <td>1.0 ohm</td>\n",
       "    </tr>\n",
       "  </tbody>\n",
       "</table>\n",
       "</div>"
      ],
      "text/plain": [
       "          $d (mm)$       $L_2 (cm)$       $L_3 (cm)$      $R_1 (Calculated)$  \\\n",
       "0   1.0 millimeter  61.6 centimeter  38.4 centimeter               0.625 ohm   \n",
       "1   0.7 millimeter  43.5 centimeter  56.5 centimeter  1.2987012987012987 ohm   \n",
       "2   0.5 millimeter  28.5 centimeter  71.5 centimeter  2.5087807325639737 ohm   \n",
       "3  0.35 millimeter  15.8 centimeter  84.2 centimeter   5.319148936170213 ohm   \n",
       "\n",
       "     $R_4$  \n",
       "0  1.0 ohm  \n",
       "1  1.0 ohm  \n",
       "2  1.0 ohm  \n",
       "3  1.0 ohm  "
      ]
     },
     "execution_count": 71,
     "metadata": {},
     "output_type": "execute_result"
    }
   ],
   "source": [
    "\n",
    "# todo: taken the Multiplication inerse becouse was calculated on the LAb Manual wrong way. by doing this we are currecting.\n",
    "TABLE_2_7_df[\"$R_1 (Calculated)$\"] = 1/TABLE_2_7_df[\"$R_1 (Calculated)$\"]   \n",
    "TABLE_2_7_df"
   ]
  },
  {
   "cell_type": "code",
   "execution_count": 84,
   "metadata": {},
   "outputs": [],
   "source": [
    "\n",
    "# Specify the directory to save the PNG files\n",
    "output_directory = \"output_plots/\"  # Specify your output directory\n",
    "if not os.path.exists(output_directory):\n",
    "    os.makedirs(output_directory)  # Ensure this directory exists or create it\n"
   ]
  },
  {
   "cell_type": "code",
   "execution_count": 95,
   "metadata": {},
   "outputs": [
    {
     "data": {
      "image/png": "[encoded data removed]",
      "text/plain": [
       "<Figure size 1000x600 with 1 Axes>"
      ]
     },
     "metadata": {},
     "output_type": "display_data"
    }
   ],
   "source": [
    "import numpy as np\n",
    "import matplotlib.pyplot as plt\n",
    "from sklearn.preprocessing import PolynomialFeatures\n",
    "from sklearn.linear_model import LinearRegression\n",
    "from scipy.optimize import curve_fit\n",
    "import os\n",
    "\n",
    "def exponential_func(d, a, b):\n",
    "    return a * np.exp(b * d)\n",
    "\n",
    "Degree = 2\n",
    "poly_features = PolynomialFeatures(degree=Degree)\n",
    "d_table_2_7 = np.array([i.magnitude for i in TABLE_2_7_df[\"$d (mm)$\"]])\n",
    "R_1_table_2_7 = np.array([i.magnitude for i in TABLE_2_7_df[\"$R_1 (Calculated)$\"]])\n",
    "\n",
    "d_poly = poly_features.fit_transform(d_table_2_7.reshape(-1, 1))\n",
    "R_model = LinearRegression()\n",
    "R_model.fit(d_poly, R_1_table_2_7)\n",
    "\n",
    "d_linspace = np.linspace(min(d_table_2_7), max(d_table_2_7), 1000)\n",
    "d_linspace_poly = poly_features.fit_transform(d_linspace.reshape(-1,1))\n",
    "R_pred_poly = R_model.predict(d_linspace_poly)\n",
    "\n",
    "popt, _ = curve_fit(exponential_func, d_table_2_7, R_1_table_2_7, p0=(1, 0.01))  # Initial guess for a and b\n",
    "R_pred_exp = exponential_func(d_linspace, *popt)\n",
    "\n",
    "plt.figure(figsize=(10, 6))\n",
    "plt.scatter(d_table_2_7, R_1_table_2_7, color='blue', marker='o', label='Data')\n",
    "plt.plot(d_linspace, R_pred_poly, color='green', linestyle='--', label=f'Polynomial Fit (Degree {Degree})', linewidth=2)\n",
    "plt.plot(d_linspace, R_pred_exp, color='red', label='Exponential Fit', linewidth=2)\n",
    "\n",
    "plt.title('$R(d)$ (Table 2.7)')\n",
    "plt.xlabel('$d$ (mm)')\n",
    "plt.ylabel('$R$ $(\\Omega)$')\n",
    "plt.grid(True)\n",
    "\n",
    "plt.legend()\n",
    "\n",
    "plt.savefig(os.path.join(output_directory, 'resistance_vs_diameter_table_2_7.png'))\n",
    "\n",
    "plt.show()\n",
    "plt.close()  \n"
   ]
  },
  {
   "cell_type": "code",
   "execution_count": 75,
   "metadata": {},
   "outputs": [
    {
     "data": {
      "text/html": [
       "<div>\n",
       "<style scoped>\n",
       "    .dataframe tbody tr th:only-of-type {\n",
       "        vertical-align: middle;\n",
       "    }\n",
       "\n",
       "    .dataframe tbody tr th {\n",
       "        vertical-align: top;\n",
       "    }\n",
       "\n",
       "    .dataframe thead th {\n",
       "        text-align: right;\n",
       "    }\n",
       "</style>\n",
       "<table border=\"1\" class=\"dataframe\">\n",
       "  <thead>\n",
       "    <tr style=\"text-align: right;\">\n",
       "      <th></th>\n",
       "      <th>$d (mm)$</th>\n",
       "      <th>$L_2 (cm)$</th>\n",
       "      <th>$L_3 (cm)$</th>\n",
       "      <th>$R_1 (Calculated)$</th>\n",
       "      <th>$R_4$</th>\n",
       "    </tr>\n",
       "  </thead>\n",
       "  <tbody>\n",
       "    <tr>\n",
       "      <th>0</th>\n",
       "      <td>1.0 millimeter</td>\n",
       "      <td>61.6 centimeter</td>\n",
       "      <td>38.4 centimeter</td>\n",
       "      <td>0.625 ohm</td>\n",
       "      <td>1.0 ohm</td>\n",
       "    </tr>\n",
       "    <tr>\n",
       "      <th>1</th>\n",
       "      <td>0.7 millimeter</td>\n",
       "      <td>43.5 centimeter</td>\n",
       "      <td>56.5 centimeter</td>\n",
       "      <td>1.2987012987012987 ohm</td>\n",
       "      <td>1.0 ohm</td>\n",
       "    </tr>\n",
       "    <tr>\n",
       "      <th>2</th>\n",
       "      <td>0.5 millimeter</td>\n",
       "      <td>28.5 centimeter</td>\n",
       "      <td>71.5 centimeter</td>\n",
       "      <td>2.5087807325639737 ohm</td>\n",
       "      <td>1.0 ohm</td>\n",
       "    </tr>\n",
       "    <tr>\n",
       "      <th>3</th>\n",
       "      <td>0.35 millimeter</td>\n",
       "      <td>15.8 centimeter</td>\n",
       "      <td>84.2 centimeter</td>\n",
       "      <td>5.319148936170213 ohm</td>\n",
       "      <td>1.0 ohm</td>\n",
       "    </tr>\n",
       "  </tbody>\n",
       "</table>\n",
       "</div>"
      ],
      "text/plain": [
       "          $d (mm)$       $L_2 (cm)$       $L_3 (cm)$      $R_1 (Calculated)$  \\\n",
       "0   1.0 millimeter  61.6 centimeter  38.4 centimeter               0.625 ohm   \n",
       "1   0.7 millimeter  43.5 centimeter  56.5 centimeter  1.2987012987012987 ohm   \n",
       "2   0.5 millimeter  28.5 centimeter  71.5 centimeter  2.5087807325639737 ohm   \n",
       "3  0.35 millimeter  15.8 centimeter  84.2 centimeter   5.319148936170213 ohm   \n",
       "\n",
       "     $R_4$  \n",
       "0  1.0 ohm  \n",
       "1  1.0 ohm  \n",
       "2  1.0 ohm  \n",
       "3  1.0 ohm  "
      ]
     },
     "execution_count": 75,
     "metadata": {},
     "output_type": "execute_result"
    }
   ],
   "source": [
    "TABLE_2_7_df"
   ]
  },
  {
   "cell_type": "code",
   "execution_count": 112,
   "metadata": {},
   "outputs": [
    {
     "name": "stdout",
     "output_type": "stream",
     "text": [
      "2.770 ohm\n"
     ]
    }
   ],
   "source": [
    "d_value = 0.5 * unit.millimeter\n",
    "L_value = 100 * unit.centimeter\n",
    "r_value_pred = exponential_func(d_value.magnitude, *popt) *unit.ohm\n",
    "print(format(r_value_pred, \".3f\") ) #taking some resistance with 0.5 mm diameter  \n"
   ]
  },
  {
   "cell_type": "code",
   "execution_count": 113,
   "metadata": {},
   "outputs": [
    {
     "data": {
      "text/html": [
       "5.4396825849042884×10<sup>-5</sup> centimeter ohm"
      ],
      "text/latex": [
       "$5.4396825849042884\\times 10^{-5}\\ \\mathrm{centimeter} \\cdot \\mathrm{ohm}$"
      ],
      "text/plain": [
       "<Quantity(5.43968258e-05, 'ohm * centimeter')>"
      ]
     },
     "execution_count": 113,
     "metadata": {},
     "output_type": "execute_result"
    }
   ],
   "source": [
    "rho = lambda R, d, L: (R*np.pi*(d**2))/(4*L)\n",
    "rho(r_value_pred, d_value, L_value).to(unit.ohm * unit.centimeter)"
   ]
  },
  {
   "cell_type": "code",
   "execution_count": null,
   "metadata": {},
   "outputs": [],
   "source": []
  }
 ],
 "metadata": {
  "kernelspec": {
   "display_name": "venv",
   "language": "python",
   "name": "python3"
  },
  "language_info": {
   "codemirror_mode": {
    "name": "ipython",
    "version": 3
   },
   "file_extension": ".py",
   "mimetype": "text/x-python",
   "name": "python",
   "nbconvert_exporter": "python",
   "pygments_lexer": "ipython3",
   "version": "3.11.6"
  }
 },
 "nbformat": 4,
 "nbformat_minor": 2
}
