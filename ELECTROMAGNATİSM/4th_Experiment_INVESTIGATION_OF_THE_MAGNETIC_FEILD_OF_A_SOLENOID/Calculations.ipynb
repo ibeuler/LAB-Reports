{
 "cells": [
  {
   "cell_type": "code",
   "execution_count": null,
   "metadata": {},
   "outputs": [],
   "source": [
    "import numpy as np\n",
    "import matplotlib.pyplot as plt\n",
    "import sklearn\n",
    "from sklearn.linear_model import LinearRegression\n",
    "from sklearn.preprocessing import PolynomialFeatures\n",
    "import pint\n",
    "import os\n",
    "import pandas as pd\n",
    "import itertools"
   ]
  },
  {
   "cell_type": "code",
   "execution_count": null,
   "metadata": {},
   "outputs": [],
   "source": [
    "unit = pint.UnitRegistry()"
   ]
  },
  {
   "cell_type": "markdown",
   "metadata": {},
   "source": [
    "RAW Data"
   ]
  },
  {
   "cell_type": "code",
   "execution_count": null,
   "metadata": {},
   "outputs": [],
   "source": [
    "\n",
    "file_path1 = \"DATA/Magnetic_Field_Inside_Solenoid_Table_3_12.csv\"\n",
    "file_path2 = \"DATA/Magnetic_Field_Outside_Solenoid_Table_3_1.csv\"\n",
    "\n",
    "fig_path = \"output_plots/\"\n",
    "\n",
    "if not os.path.exists(fig_path):\n",
    "    os.makedirs(fig_path)\n",
    "\n",
    "inside_feild_data = pd.read_csv(file_path1)\n",
    "outside_feild_data = pd.read_csv(file_path2)\n",
    "\n",
    "\n",
    "\n",
    "# Display the data\n",
    "print(\"(Table 3.12):\")\n",
    "print(inside_feild_data.head())\n",
    "\n",
    "print(\"\\n(Table 3.1):\")\n",
    "\n",
    "outside_feild_data[\"tan_alpha\"] = np.tan(np.radians(outside_feild_data[\"alpha\"]))\n",
    "B_y = 26 * unit.microtesla\n",
    "B = lambda alpha: B_y * (np.tan(np.radians(alpha)) *unit.dimensionless)\n",
    "outside_feild_data[\"B_muT\"] = B(outside_feild_data[\"alpha\"])\n",
    "\n",
    "print(outside_feild_data.head())\n"
   ]
  },
  {
   "cell_type": "code",
   "execution_count": null,
   "metadata": {},
   "outputs": [],
   "source": [
    "inside_feild_data.to_csv(file_path1, index=False)  # Update the file (Table 3.12)\n",
    "outside_feild_data.to_csv(file_path2, index=False)  # Update the file (Table 3.1)\n",
    "\n",
    "print(outside_feild_data[\"B_muT\"][2])"
   ]
  },
  {
   "cell_type": "code",
   "execution_count": null,
   "metadata": {},
   "outputs": [],
   "source": [
    "outside_ex_current = outside_feild_data[\"I_A\"].to_numpy()\n",
    "outside_ex_tangante_alpha = outside_feild_data[\"tan_alpha\"].to_numpy()\n",
    "\n",
    "model_outside = LinearRegression()\n",
    "model_outside.fit(outside_ex_tangante_alpha.reshape(-1,1), outside_ex_current)\n",
    "outside_line_space = np.linspace(min(outside_ex_tangante_alpha), max(outside_ex_tangante_alpha))\n",
    "reg = model_outside.predict(outside_line_space.reshape(-1,1))\n",
    "\n",
    "plt.figure(dpi=300)\n",
    "\n",
    "plt.grid(True)\n",
    "plt.scatter(outside_ex_tangante_alpha, outside_ex_current,c =\"b\", label=\"Data\")\n",
    "plt.plot(outside_line_space, reg, c=\"r\", label=\"Model\")\n",
    "\n",
    "plt.ylabel(\"$I$ $(A)$\")\n",
    "plt.xlabel(\"$tan\\\\alpha$\")\n",
    "plt.title(\"$I = f(\\\\alpha)$\")\n",
    "plt.tight_layout()\n",
    "plt.legend()\n",
    "\n",
    "plt.savefig(fig_path+\"current_vs_tan_alpha.jpg\",dpi=300)\n",
    "plt.show()"
   ]
  },
  {
   "cell_type": "code",
   "execution_count": null,
   "metadata": {},
   "outputs": [],
   "source": [
    "for i in inside_feild_data.columns:\n",
    "    print(i)"
   ]
  },
  {
   "cell_type": "code",
   "execution_count": null,
   "metadata": {},
   "outputs": [],
   "source": [
    "for column_name in inside_feild_data.columns:\n",
    "    if column_name != \"x (mm)\":\n",
    "        print(i)"
   ]
  },
  {
   "cell_type": "code",
   "execution_count": null,
   "metadata": {},
   "outputs": [],
   "source": [
    "Degree = 6\n",
    "X_mm = inside_feild_data[\"x (mm)\"].to_numpy().reshape(-1,1)\n",
    "poly_features = PolynomialFeatures(degree=Degree)\n",
    "X_poly = poly_features.fit_transform(X_mm)\n",
    "colors = itertools.cycle(['b', 'g', 'r', 'c', 'm', 'y', 'k'])\n",
    "\n",
    "ALL_mid_pints = []\n",
    "\n",
    "for column_name in inside_feild_data.columns:\n",
    "    if column_name != \"x (mm)\":\n",
    "        plt.figure(dpi=300)\n",
    "        color = next(colors)\n",
    "\n",
    "        y = inside_feild_data[column_name]\n",
    "        model = LinearRegression()\n",
    "        model.fit(X_poly, y)\n",
    "        line_space = np.linspace(min(X_mm), max(X_mm),1000).reshape(-1,1)\n",
    "        poly_line_space = poly_features.fit_transform(line_space)\n",
    "        prediction = model.predict(poly_line_space)\n",
    "\n",
    "        mid_x = poly_features.fit_transform(np.array([110]).reshape(-1,1))\n",
    "        mid_point_B = (model.predict(mid_x))\n",
    "        \n",
    "        plt.scatter(X_mm, y, label=column_name.replace(\" B (mT)\", \"\").replace(\"turns \", \"\"), c=color)\n",
    "        plt.plot(line_space,prediction, label=column_name.replace(\" B (mT)\", \"\").replace(\"turns \", \"\")+\" Model\", c=color)\n",
    "        \n",
    "        plt.grid(True)\n",
    "        plt.ylabel(r\"$B (mT)$\")\n",
    "        plt.xlabel(r\"$x$ $(mm)$\")\n",
    "        plt.legend()        \n",
    "        file_name= column_name.replace(\"turns \", \"\").replace(\":\", \"_\").replace(\" \", \"_\")\n",
    "        plt.savefig(fig_path+f\"{file_name}.jpg\", dpi=300)\n",
    "        plt.show()\n",
    "        print(f\"Mid_point = {mid_point_B}\")\n",
    "        ALL_mid_pints.append((column_name.strip(), mid_point_B))\n"
   ]
  },
  {
   "cell_type": "code",
   "execution_count": null,
   "metadata": {},
   "outputs": [],
   "source": [
    "len(ALL_mid_pints) #5 means for each configuration"
   ]
  },
  {
   "cell_type": "code",
   "execution_count": null,
   "metadata": {},
   "outputs": [],
   "source": [
    "ALL_mid_pints"
   ]
  },
  {
   "cell_type": "code",
   "execution_count": null,
   "metadata": {},
   "outputs": [],
   "source": [
    "ALL_mid_pints_n_integered = [(int(n[0][2:5]), n[1] ) for n in ALL_mid_pints]"
   ]
  },
  {
   "cell_type": "code",
   "execution_count": null,
   "metadata": {},
   "outputs": [],
   "source": [
    "ALL_mid_pints_n_integered"
   ]
  },
  {
   "cell_type": "code",
   "execution_count": null,
   "metadata": {},
   "outputs": [],
   "source": [
    "x, y = [], []\n",
    "for i in ALL_mid_pints_n_integered:\n",
    "    x.append(i[0]);y.append(i[1])\n"
   ]
  },
  {
   "cell_type": "code",
   "execution_count": null,
   "metadata": {},
   "outputs": [],
   "source": [
    "x, y = np.array(x), np.array(y).reshape(1,-1)[0]*10**-3 # turns, tesla\n",
    "print(x,\" -|- \\n\",  y)"
   ]
  },
  {
   "cell_type": "code",
   "execution_count": null,
   "metadata": {},
   "outputs": [],
   "source": [
    "model_mu = LinearRegression()\n",
    "model_mu.fit(x.reshape(-1,1),y)\n",
    "line_space_mu = np.linspace(min(x), max(x), 1000).reshape(-1,1)\n",
    "predictions_mu = model_mu.predict(line_space_mu)\n",
    "\n",
    "\n",
    "plt.figure(dpi=300)\n",
    "plt.scatter(x,y, c = \"b\", label=\"Data\")\n",
    "plt.plot(line_space_mu,predictions_mu, c=\"r\", label=\"Model\")\n",
    "plt.grid(True)\n",
    "plt.legend()\n",
    "plt.xlabel(\"N (turns)\")\n",
    "plt.ylabel(\"B ($T$)\")\n",
    "plt.title(\"B(N) - for a fixed x = 110 cm\")\n",
    "plt.savefig(\"output_plots/B_vs_n_110cm.png\")\n",
    "\n",
    "slope = model_mu.coef_[0]  # Coefficient of the fitted model\n",
    "print(f\"The slope of the model is {slope}\")"
   ]
  },
  {
   "cell_type": "code",
   "execution_count": null,
   "metadata": {},
   "outputs": [],
   "source": [
    "# B = \\mu * n * I => \\mu = B / (n * I) \n",
    "I = 0.5 * unit.ampere\n",
    "l = 160 * unit.millimeter\n",
    "mu = lambda B, N: B*l/(N*I)\n",
    "i = 0\n",
    "p = ALL_mid_pints_n_integered[i][1][0] * unit.millitesla\n",
    "N = ALL_mid_pints_n_integered[i][0]\n",
    "mu(p, N).to(unit.henry/unit.meter)"
   ]
  },
  {
   "cell_type": "code",
   "execution_count": null,
   "metadata": {},
   "outputs": [],
   "source": [
    "mu_values = []\n",
    "for N, B in ALL_mid_pints_n_integered:\n",
    "    mu_values.append(mu(B * unit.millitesla, N).to(unit.henry/unit.meter))"
   ]
  },
  {
   "cell_type": "code",
   "execution_count": null,
   "metadata": {},
   "outputs": [],
   "source": [
    "mu_values"
   ]
  },
  {
   "cell_type": "code",
   "execution_count": null,
   "metadata": {},
   "outputs": [],
   "source": [
    "\n",
    "Degree = 6\n",
    "X_mm = inside_feild_data[\"x (mm)\"].to_numpy().reshape(-1, 1)\n",
    "poly_features = PolynomialFeatures(degree=Degree)\n",
    "X_poly = poly_features.fit_transform(X_mm)\n",
    "\n",
    "# Define marker and line styles\n",
    "markers = itertools.cycle(['o', '^', '+',  '*','x','s', 'D', 'v', '<', '>', 'P',  ',', '1', '2', '3'])\n",
    "linestyles = itertools.cycle(['-', '--', ':', '-.', '-', '--', ':', '-.', '-'])\n",
    "\n",
    "# Create a single figure before the loop\n",
    "plt.figure(figsize=(13,9),dpi=300)\n",
    "\n",
    "for column_name in inside_feild_data.columns:\n",
    "    if column_name != \"x (mm)\":\n",
    "        # Cycle through markers and line styles\n",
    "        marker = next(markers)\n",
    "        linestyle = next(linestyles)\n",
    "\n",
    "        y = inside_feild_data[column_name]\n",
    "        model = LinearRegression()\n",
    "        model.fit(X_poly, y)\n",
    "        \n",
    "        # Generate a space for plotting the regression line\n",
    "        line_space = np.linspace(min(X_mm), max(X_mm), 1000).reshape(-1, 1)\n",
    "        poly_line_space = poly_features.transform(line_space)\n",
    "        prediction = model.predict(poly_line_space)\n",
    "\n",
    "        # Plot the scatter points with a specific marker\n",
    "        plt.scatter(X_mm, y, label=column_name.replace(\" B (mT)\", \"\").replace(\"turns \", \"\"), marker=marker)\n",
    "\n",
    "        # Plot the regression line with a specific line style\n",
    "        plt.plot(line_space, prediction, label=f'{column_name.replace(\" B (mT)\", \"\").replace(\"turns \", \"\")} Model', linestyle=linestyle)\n",
    "\n",
    "# Customize the plot after the loop\n",
    "plt.grid(True)\n",
    "plt.ylabel(r\"$B (mT)$\")\n",
    "plt.xlabel(r\"$x$ $(mm)$\")\n",
    "plt.legend()        \n",
    "plt.savefig(fig_path+\"Magnatic_Feilds_vs_distance.jpg\",dpi=300)\n",
    "plt.show()\n"
   ]
  },
  {
   "cell_type": "code",
   "execution_count": 25,
   "metadata": {},
   "outputs": [
    {
     "data": {
      "text/plain": [
       "{'outside_field_data':    I_A  alpha  tan_alpha      B_muT\n",
       " 0  0.0      0   0.000000   0.000000\n",
       " 1  0.2     14   0.249328   6.482528\n",
       " 2  0.4     26   0.487733  12.681047\n",
       " 3  0.6     36   0.726543  18.890106\n",
       " 4  0.8     48   1.110613  28.875925,\n",
       " 'inside_field_data_columns': ['x (mm)',\n",
       "  'n:75 turns 2a:26mm B (mT) ',\n",
       "  'n:150 turns 2a:26mm B (mT)',\n",
       "  'n:300 turns 2a:26mm B (mT)',\n",
       "  'n:300 turns 2a:33mm B (mT)',\n",
       "  'n:300 turns 2a:41mm  B (mT)'],\n",
       " 'midpoints': [(75, array([0.28183772])),\n",
       "  (150, array([0.53421586])),\n",
       "  (300, array([1.09196126])),\n",
       "  (300, array([1.09208184])),\n",
       "  (300, array([1.03782164]))],\n",
       " 'mu_values': [<Quantity([1.20250759e-06], 'henry / meter')>,\n",
       "  <Quantity([1.1396605e-06], 'henry / meter')>,\n",
       "  <Quantity([1.16475868e-06], 'henry / meter')>,\n",
       "  <Quantity([1.1648873e-06], 'henry / meter')>,\n",
       "  <Quantity([1.10700975e-06], 'henry / meter')>],\n",
       " 'slope_BN': np.float64(3.5399557507249617e-06)}"
      ]
     },
     "execution_count": 25,
     "metadata": {},
     "output_type": "execute_result"
    }
   ],
   "source": [
    "results = {\n",
    "    \"outside_field_data\": outside_feild_data.head(),\n",
    "    \"inside_field_data_columns\": list(inside_feild_data.columns),\n",
    "    \"midpoints\": ALL_mid_pints_n_integered,\n",
    "    \"mu_values\": mu_values,\n",
    "    \"slope_BN\": slope,\n",
    "}\n",
    "\n",
    "# Display the results\n",
    "results"
   ]
  },
  {
   "cell_type": "code",
   "execution_count": 30,
   "metadata": {},
   "outputs": [
    {
     "data": {
      "text/html": [
       "1.1327858402319878×10<sup>-6</sup> henry/meter"
      ],
      "text/latex": [
       "$1.1327858402319878\\times 10^{-6}\\ \\frac{\\mathrm{henry}}{\\mathrm{meter}}$"
      ],
      "text/plain": [
       "<Quantity(1.13278584e-06, 'henry / meter')>"
      ]
     },
     "execution_count": 30,
     "metadata": {},
     "output_type": "execute_result"
    }
   ],
   "source": [
    "((slope*unit.tesla)*l/I).to(unit.henry/unit.meter)"
   ]
  },
  {
   "cell_type": "code",
   "execution_count": null,
   "metadata": {},
   "outputs": [],
   "source": []
  }
 ],
 "metadata": {
  "kernelspec": {
   "display_name": "venv",
   "language": "python",
   "name": "python3"
  },
  "language_info": {
   "codemirror_mode": {
    "name": "ipython",
    "version": 3
   },
   "file_extension": ".py",
   "mimetype": "text/x-python",
   "name": "python",
   "nbconvert_exporter": "python",
   "pygments_lexer": "ipython3",
   "version": "3.11.6"
  }
 },
 "nbformat": 4,
 "nbformat_minor": 2
}
