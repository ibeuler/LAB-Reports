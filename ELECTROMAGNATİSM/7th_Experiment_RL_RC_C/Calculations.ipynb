{
 "cells": [
  {
   "cell_type": "code",
   "execution_count": 2,
   "metadata": {},
   "outputs": [],
   "source": [
    "import numpy as np\n",
    "import matplotlib.pyplot as plt\n",
    "import os\n",
    "import pandas as pd\n",
    "import itertools\n",
    "from scipy.optimize import curve_fit\n",
    "import pint"
   ]
  },
  {
   "cell_type": "code",
   "execution_count": 98,
   "metadata": {},
   "outputs": [],
   "source": [
    "unit = pint.UnitRegistry()\n",
    "DATA = {\n",
    "    \"RL\": {\n",
    "        \"i\": 0.2 * unit.ampere,\n",
    "        \"v_R\": 43.7 * unit.volt,\n",
    "        \"v_L_\": 26.0 * unit.volt,\n",
    "        \"v\": 60.0 * unit.volt,\n",
    "    },\n",
    "    \"RC\": {\n",
    "        \"i\": 0.6 * unit.ampere,\n",
    "        \"v_R\": 40.0 * unit.volt,\n",
    "        \"v_C\": 30.0 * unit.volt,\n",
    "        \"v\": 50.0 * unit.volt,\n",
    "    },\n",
    "}"
   ]
  },
  {
   "cell_type": "code",
   "execution_count": 142,
   "metadata": {},
   "outputs": [],
   "source": [
    "# Convert the DATA dictionary to a DataFrame\n",
    "data_dict = {\n",
    "    'Configuration': [],\n",
    "    'Quantity': [],\n",
    "    'Value': []\n",
    "}\n",
    "\n",
    "for config, params in DATA.items():\n",
    "    for param, value in params.items():\n",
    "        data_dict['Configuration'].append(config)\n",
    "        data_dict['Quantity'].append(param)\n",
    "        data_dict['Value'].append(value)\n",
    "\n",
    "data_df = pd.DataFrame(data_dict)\n",
    "\n",
    "# Save the DataFrame to a CSV file\n",
    "data_df.to_csv('DATA/data.csv', index=False)"
   ]
  },
  {
   "cell_type": "markdown",
   "metadata": {},
   "source": [
    "# RL"
   ]
  },
  {
   "cell_type": "code",
   "execution_count": 99,
   "metadata": {},
   "outputs": [
    {
     "data": {
      "text/html": [
       "11.5 volt"
      ],
      "text/latex": [
       "$11.5\\ \\mathrm{volt}$"
      ],
      "text/plain": [
       "<Quantity(11.5, 'volt')>"
      ]
     },
     "execution_count": 99,
     "metadata": {},
     "output_type": "execute_result"
    }
   ],
   "source": [
    "v_R_L = 2.3*5 * unit.volt\n",
    "v_R_L"
   ]
  },
  {
   "cell_type": "code",
   "execution_count": 100,
   "metadata": {},
   "outputs": [
    {
     "data": {
      "text/html": [
       "314.1592653589793 1/second"
      ],
      "text/latex": [
       "$314.1592653589793\\ \\frac{1}{\\mathrm{second}}$"
      ],
      "text/plain": [
       "<Quantity(314.159265, '1 / second')>"
      ]
     },
     "execution_count": 100,
     "metadata": {},
     "output_type": "execute_result"
    }
   ],
   "source": [
    "omega = (2*np.pi*50*unit.hertz).to(1/unit.second) # angular frequency of the AC source\n",
    "omega.to(1/unit.second)"
   ]
  },
  {
   "cell_type": "code",
   "execution_count": 101,
   "metadata": {},
   "outputs": [
    {
     "data": {
      "text/html": [
       "23.0 volt"
      ],
      "text/latex": [
       "$23.0\\ \\mathrm{volt}$"
      ],
      "text/plain": [
       "<Quantity(23.0, 'volt')>"
      ]
     },
     "execution_count": 101,
     "metadata": {},
     "output_type": "execute_result"
    }
   ],
   "source": [
    "v_L = (4.6*5) * unit.volt \n",
    "v_L"
   ]
  },
  {
   "cell_type": "code",
   "execution_count": 102,
   "metadata": {},
   "outputs": [
    {
     "data": {
      "text/html": [
       "0.36605636911135925 henry"
      ],
      "text/latex": [
       "$0.36605636911135925\\ \\mathrm{henry}$"
      ],
      "text/plain": [
       "<Quantity(0.366056369, 'henry')>"
      ]
     },
     "execution_count": 102,
     "metadata": {},
     "output_type": "execute_result"
    }
   ],
   "source": [
    "L_5 = v_L / (DATA[\"RL\"][\"i\"] * omega)\n",
    "L_5.to(unit.henry)"
   ]
  },
  {
   "cell_type": "code",
   "execution_count": 103,
   "metadata": {},
   "outputs": [
    {
     "data": {
      "text/html": [
       "115.0 ohm"
      ],
      "text/latex": [
       "$115.0\\ \\mathrm{ohm}$"
      ],
      "text/plain": [
       "<Quantity(115.0, 'ohm')>"
      ]
     },
     "execution_count": 103,
     "metadata": {},
     "output_type": "execute_result"
    }
   ],
   "source": [
    "X_L = omega * L_5\n",
    "X_L.to(unit.ohm)"
   ]
  },
  {
   "cell_type": "code",
   "execution_count": 114,
   "metadata": {},
   "outputs": [
    {
     "data": {
      "text/html": [
       "218.5 ohm"
      ],
      "text/latex": [
       "$218.5\\ \\mathrm{ohm}$"
      ],
      "text/plain": [
       "<Quantity(218.5, 'ohm')>"
      ]
     },
     "execution_count": 114,
     "metadata": {},
     "output_type": "execute_result"
    }
   ],
   "source": [
    "R = (DATA[\"RL\"][\"v_R\"] / DATA[\"RL\"][\"i\"]).to(unit.ohm)\n",
    "R"
   ]
  },
  {
   "cell_type": "code",
   "execution_count": 115,
   "metadata": {},
   "outputs": [
    {
     "data": {
      "text/html": [
       "57.5 ohm"
      ],
      "text/latex": [
       "$57.5\\ \\mathrm{ohm}$"
      ],
      "text/plain": [
       "<Quantity(57.5, 'ohm')>"
      ]
     },
     "execution_count": 115,
     "metadata": {},
     "output_type": "execute_result"
    }
   ],
   "source": [
    "R_L = (v_R_L / DATA[\"RL\"][\"i\"] ).to(unit.ohm)\n",
    "R_L"
   ]
  },
  {
   "cell_type": "code",
   "execution_count": 117,
   "metadata": {},
   "outputs": [
    {
     "data": {
      "text/html": [
       "299.0 ohm"
      ],
      "text/latex": [
       "$299.0\\ \\mathrm{ohm}$"
      ],
      "text/plain": [
       "<Quantity(299.0, 'ohm')>"
      ]
     },
     "execution_count": 117,
     "metadata": {},
     "output_type": "execute_result"
    }
   ],
   "source": [
    "Z = np.sqrt(X_L**2 + (R + R_L)**2).to(unit.ohm)\n",
    "Z"
   ]
  },
  {
   "cell_type": "code",
   "execution_count": 107,
   "metadata": {},
   "outputs": [
    {
     "data": {
      "text/html": [
       "22.619864948040426 degree"
      ],
      "text/latex": [
       "$22.619864948040426\\ \\mathrm{degree}$"
      ],
      "text/plain": [
       "<Quantity(22.6198649, 'degree')>"
      ]
     },
     "execution_count": 107,
     "metadata": {},
     "output_type": "execute_result"
    }
   ],
   "source": [
    "phi = np.arctan(v_L / (DATA[\"RL\"][\"v_R\"] + v_R_L)).to('degree')\n",
    "phi"
   ]
  },
  {
   "cell_type": "code",
   "execution_count": 108,
   "metadata": {},
   "outputs": [
    {
     "data": {
      "text/html": [
       "63.43494882292201 degree"
      ],
      "text/latex": [
       "$63.43494882292201\\ \\mathrm{degree}$"
      ],
      "text/plain": [
       "<Quantity(63.4349488, 'degree')>"
      ]
     },
     "execution_count": 108,
     "metadata": {},
     "output_type": "execute_result"
    }
   ],
   "source": [
    "phi_L = np.arctan((omega* L_5 / R_L)).to('degree')\n",
    "phi_L"
   ]
  },
  {
   "cell_type": "code",
   "execution_count": 109,
   "metadata": {},
   "outputs": [
    {
     "data": {
      "text/html": [
       "0.36605636911135925 henry"
      ],
      "text/latex": [
       "$0.36605636911135925\\ \\mathrm{henry}$"
      ],
      "text/plain": [
       "<Quantity(0.366056369, 'henry')>"
      ]
     },
     "execution_count": 109,
     "metadata": {},
     "output_type": "execute_result"
    }
   ],
   "source": [
    "L_9 = (1/omega) * np.sqrt(Z**2 - (R+R_L)**2)\n",
    "L_9 = L_9.to(unit.henry)\n",
    "L_9"
   ]
  },
  {
   "cell_type": "code",
   "execution_count": 118,
   "metadata": {
    "vscode": {
     "languageId": "javascript"
    }
   },
   "outputs": [
    {
     "data": {
      "text/html": [
       "<div>\n",
       "<style scoped>\n",
       "    .dataframe tbody tr th:only-of-type {\n",
       "        vertical-align: middle;\n",
       "    }\n",
       "\n",
       "    .dataframe tbody tr th {\n",
       "        vertical-align: top;\n",
       "    }\n",
       "\n",
       "    .dataframe thead th {\n",
       "        text-align: right;\n",
       "    }\n",
       "</style>\n",
       "<table border=\"1\" class=\"dataframe\">\n",
       "  <thead>\n",
       "    <tr style=\"text-align: right;\">\n",
       "      <th></th>\n",
       "      <th>Physical Quantities</th>\n",
       "      <th>Calculated</th>\n",
       "      <th>Figure</th>\n",
       "    </tr>\n",
       "  </thead>\n",
       "  <tbody>\n",
       "    <tr>\n",
       "      <th>0</th>\n",
       "      <td>i (A)</td>\n",
       "      <td>0.2 ampere</td>\n",
       "      <td>0.2 ampere</td>\n",
       "    </tr>\n",
       "    <tr>\n",
       "      <th>1</th>\n",
       "      <td>v_R (V)</td>\n",
       "      <td>43.7 volt</td>\n",
       "      <td>43.7 volt</td>\n",
       "    </tr>\n",
       "    <tr>\n",
       "      <th>2</th>\n",
       "      <td>v_L' (V)</td>\n",
       "      <td>26.0 volt</td>\n",
       "      <td>26.0 volt</td>\n",
       "    </tr>\n",
       "    <tr>\n",
       "      <th>3</th>\n",
       "      <td>v (V)</td>\n",
       "      <td>60.0 volt</td>\n",
       "      <td>60.0 volt</td>\n",
       "    </tr>\n",
       "    <tr>\n",
       "      <th>4</th>\n",
       "      <td>v_RL (V)</td>\n",
       "      <td>11.5 volt</td>\n",
       "      <td>11.5 volt</td>\n",
       "    </tr>\n",
       "    <tr>\n",
       "      <th>5</th>\n",
       "      <td>v_L (V)</td>\n",
       "      <td>23.0 volt</td>\n",
       "      <td>23.0 volt</td>\n",
       "    </tr>\n",
       "    <tr>\n",
       "      <th>6</th>\n",
       "      <td>L (H)</td>\n",
       "      <td>0.36605636911135925 henry</td>\n",
       "      <td>0.36605636911135925 henry</td>\n",
       "    </tr>\n",
       "    <tr>\n",
       "      <th>7</th>\n",
       "      <td>Z (Ω)</td>\n",
       "      <td>299.0 ohm</td>\n",
       "      <td>299.0 ohm</td>\n",
       "    </tr>\n",
       "    <tr>\n",
       "      <th>8</th>\n",
       "      <td>R_L (Ω)</td>\n",
       "      <td>57.5 ohm</td>\n",
       "      <td>57.5 ohm</td>\n",
       "    </tr>\n",
       "    <tr>\n",
       "      <th>9</th>\n",
       "      <td>R (Ω)</td>\n",
       "      <td>218.5 ohm</td>\n",
       "      <td>218.5 ohm</td>\n",
       "    </tr>\n",
       "    <tr>\n",
       "      <th>10</th>\n",
       "      <td>ω (s⁻¹)</td>\n",
       "      <td>314.1592653589793 / second</td>\n",
       "      <td>314.1592653589793 / second</td>\n",
       "    </tr>\n",
       "    <tr>\n",
       "      <th>11</th>\n",
       "      <td>φ (deg)</td>\n",
       "      <td>22.619864948040426 degree</td>\n",
       "      <td>22.619864948040426 degree</td>\n",
       "    </tr>\n",
       "    <tr>\n",
       "      <th>12</th>\n",
       "      <td>φ_L (deg)</td>\n",
       "      <td>63.43494882292201 degree</td>\n",
       "      <td>63.43494882292201 degree</td>\n",
       "    </tr>\n",
       "  </tbody>\n",
       "</table>\n",
       "</div>"
      ],
      "text/plain": [
       "   Physical Quantities                  Calculated                      Figure\n",
       "0                i (A)                  0.2 ampere                  0.2 ampere\n",
       "1              v_R (V)                   43.7 volt                   43.7 volt\n",
       "2             v_L' (V)                   26.0 volt                   26.0 volt\n",
       "3                v (V)                   60.0 volt                   60.0 volt\n",
       "4             v_RL (V)                   11.5 volt                   11.5 volt\n",
       "5              v_L (V)                   23.0 volt                   23.0 volt\n",
       "6                L (H)   0.36605636911135925 henry   0.36605636911135925 henry\n",
       "7                Z (Ω)                   299.0 ohm                   299.0 ohm\n",
       "8              R_L (Ω)                    57.5 ohm                    57.5 ohm\n",
       "9                R (Ω)                   218.5 ohm                   218.5 ohm\n",
       "10             ω (s⁻¹)  314.1592653589793 / second  314.1592653589793 / second\n",
       "11             φ (deg)   22.619864948040426 degree   22.619864948040426 degree\n",
       "12           φ_L (deg)    63.43494882292201 degree    63.43494882292201 degree"
      ]
     },
     "execution_count": 118,
     "metadata": {},
     "output_type": "execute_result"
    }
   ],
   "source": [
    "data = {\n",
    "    \"Physical Quantities\": [\n",
    "        \"i (A)\", \"v_R (V)\", \"v_L' (V)\", \"v (V)\", \"v_RL (V)\", \"v_L (V)\", \"L (H)\", \"Z (Ω)\", \"R_L (Ω)\", \"R (Ω)\", \"ω (s⁻¹)\", \"φ (deg)\", \"φ_L (deg)\"\n",
    "    ],\n",
    "    \"Calculated\": [\n",
    "        DATA[\"RL\"][\"i\"], DATA[\"RL\"][\"v_R\"], DATA[\"RL\"][\"v_L_\"], DATA[\"RL\"][\"v\"], v_R_L, v_L, L_9, Z, R_L, R, omega, phi, phi_L\n",
    "    ],\n",
    "    \"Figure\": [\n",
    "        DATA[\"RL\"][\"i\"], DATA[\"RL\"][\"v_R\"], DATA[\"RL\"][\"v_L_\"], DATA[\"RL\"][\"v\"], v_R_L, v_L, L_9, Z, R_L, R, omega, phi, phi_L\n",
    "    ]\n",
    "}\n",
    "\n",
    "df_physical_quantities = pd.DataFrame(data)\n",
    "df_physical_quantities"
   ]
  },
  {
   "cell_type": "markdown",
   "metadata": {},
   "source": [
    "# RC"
   ]
  },
  {
   "cell_type": "code",
   "execution_count": 120,
   "metadata": {},
   "outputs": [
    {
     "data": {
      "text/html": [
       "50.0 volt"
      ],
      "text/latex": [
       "$50.0\\ \\mathrm{volt}$"
      ],
      "text/plain": [
       "<Quantity(50.0, 'volt')>"
      ]
     },
     "execution_count": 120,
     "metadata": {},
     "output_type": "execute_result"
    }
   ],
   "source": [
    "v_RC = np.sqrt(DATA[\"RC\"][\"v_R\"]**2 + DATA[\"RC\"][\"v_C\"]**2)\n",
    "v_RC"
   ]
  },
  {
   "cell_type": "code",
   "execution_count": 162,
   "metadata": {},
   "outputs": [
    {
     "data": {
      "text/html": [
       "-36.86989764584402 degree"
      ],
      "text/latex": [
       "$-36.86989764584402\\ \\mathrm{degree}$"
      ],
      "text/plain": [
       "<Quantity(-36.8698976, 'degree')>"
      ]
     },
     "execution_count": 162,
     "metadata": {},
     "output_type": "execute_result"
    }
   ],
   "source": [
    "phi_RC = np.arctan(- DATA[\"RC\"][\"v_C\"] / DATA[\"RC\"][\"v_R\"]).to('degree')\n",
    "phi_RC"
   ]
  },
  {
   "cell_type": "code",
   "execution_count": 163,
   "metadata": {},
   "outputs": [
    {
     "data": {
      "text/html": [
       "0.6 ampere"
      ],
      "text/latex": [
       "$0.6\\ \\mathrm{ampere}$"
      ],
      "text/plain": [
       "<Quantity(0.6, 'ampere')>"
      ]
     },
     "execution_count": 163,
     "metadata": {},
     "output_type": "execute_result"
    }
   ],
   "source": [
    "i_RC_measured = DATA[\"RC\"][\"i\"]\n",
    "i_RC_measured"
   ]
  },
  {
   "cell_type": "code",
   "execution_count": 164,
   "metadata": {},
   "outputs": [
    {
     "data": {
      "text/html": [
       "314.1592653589793 1/second"
      ],
      "text/latex": [
       "$314.1592653589793\\ \\frac{1}{\\mathrm{second}}$"
      ],
      "text/plain": [
       "<Quantity(314.159265, '1 / second')>"
      ]
     },
     "execution_count": 164,
     "metadata": {},
     "output_type": "execute_result"
    }
   ],
   "source": [
    "omega_RC = (2 *np.pi * 50*unit.hertz).to(1/unit.second)\n",
    "omega_RC"
   ]
  },
  {
   "cell_type": "code",
   "execution_count": 165,
   "metadata": {},
   "outputs": [
    {
     "data": {
      "text/html": [
       "38.19718634205488 microfarad"
      ],
      "text/latex": [
       "$38.19718634205488\\ \\mathrm{microfarad}$"
      ],
      "text/plain": [
       "<Quantity(38.1971863, 'microfarad')>"
      ]
     },
     "execution_count": 165,
     "metadata": {},
     "output_type": "execute_result"
    }
   ],
   "source": [
    "c = (i_RC_measured / (omega_RC * v_RC)).to(unit.microfarad)\n",
    "c"
   ]
  },
  {
   "cell_type": "code",
   "execution_count": 166,
   "metadata": {
    "vscode": {
     "languageId": "javascript"
    }
   },
   "outputs": [
    {
     "data": {
      "text/html": [
       "<div>\n",
       "<style scoped>\n",
       "    .dataframe tbody tr th:only-of-type {\n",
       "        vertical-align: middle;\n",
       "    }\n",
       "\n",
       "    .dataframe tbody tr th {\n",
       "        vertical-align: top;\n",
       "    }\n",
       "\n",
       "    .dataframe thead th {\n",
       "        text-align: right;\n",
       "    }\n",
       "</style>\n",
       "<table border=\"1\" class=\"dataframe\">\n",
       "  <thead>\n",
       "    <tr style=\"text-align: right;\">\n",
       "      <th></th>\n",
       "      <th>Physical Quantities</th>\n",
       "      <th>Calculated</th>\n",
       "      <th>Figure</th>\n",
       "    </tr>\n",
       "  </thead>\n",
       "  <tbody>\n",
       "    <tr>\n",
       "      <th>0</th>\n",
       "      <td>i (A)</td>\n",
       "      <td>0.6 ampere</td>\n",
       "      <td>0.6 ampere</td>\n",
       "    </tr>\n",
       "    <tr>\n",
       "      <th>1</th>\n",
       "      <td>v_R (V)</td>\n",
       "      <td>40.0 volt</td>\n",
       "      <td>40.0 volt</td>\n",
       "    </tr>\n",
       "    <tr>\n",
       "      <th>2</th>\n",
       "      <td>v_C (V)</td>\n",
       "      <td>30.0 volt</td>\n",
       "      <td>30.0 volt</td>\n",
       "    </tr>\n",
       "    <tr>\n",
       "      <th>3</th>\n",
       "      <td>v (V)</td>\n",
       "      <td>50.0 volt</td>\n",
       "      <td>50.0 volt</td>\n",
       "    </tr>\n",
       "    <tr>\n",
       "      <th>4</th>\n",
       "      <td>ω (s⁻¹)</td>\n",
       "      <td>314.1592653589793 / second</td>\n",
       "      <td>314.1592653589793 / second</td>\n",
       "    </tr>\n",
       "    <tr>\n",
       "      <th>5</th>\n",
       "      <td>φ_RC (deg)</td>\n",
       "      <td>-36.86989764584402 degree</td>\n",
       "      <td>-36.86989764584402 degree</td>\n",
       "    </tr>\n",
       "    <tr>\n",
       "      <th>6</th>\n",
       "      <td>C (μF)</td>\n",
       "      <td>38.19718634205488 microfarad</td>\n",
       "      <td>38.19718634205488 microfarad</td>\n",
       "    </tr>\n",
       "  </tbody>\n",
       "</table>\n",
       "</div>"
      ],
      "text/plain": [
       "  Physical Quantities                    Calculated  \\\n",
       "0               i (A)                    0.6 ampere   \n",
       "1             v_R (V)                     40.0 volt   \n",
       "2             v_C (V)                     30.0 volt   \n",
       "3               v (V)                     50.0 volt   \n",
       "4             ω (s⁻¹)    314.1592653589793 / second   \n",
       "5          φ_RC (deg)     -36.86989764584402 degree   \n",
       "6              C (μF)  38.19718634205488 microfarad   \n",
       "\n",
       "                         Figure  \n",
       "0                    0.6 ampere  \n",
       "1                     40.0 volt  \n",
       "2                     30.0 volt  \n",
       "3                     50.0 volt  \n",
       "4    314.1592653589793 / second  \n",
       "5     -36.86989764584402 degree  \n",
       "6  38.19718634205488 microfarad  "
      ]
     },
     "execution_count": 166,
     "metadata": {},
     "output_type": "execute_result"
    }
   ],
   "source": [
    "data_calculations_figure_RC = {\n",
    "    \"Physical Quantities\": [\n",
    "        \"i (A)\", \"v_R (V)\", \"v_C (V)\", \"v (V)\", \"ω (s⁻¹)\", \"φ_RC (deg)\", \"C (μF)\"\n",
    "    ],\n",
    "    \"Calculated\": [\n",
    "        DATA[\"RC\"][\"i\"], DATA[\"RC\"][\"v_R\"], DATA[\"RC\"][\"v_C\"], DATA[\"RC\"][\"v\"], omega_RC, phi_RC, c\n",
    "    ],\n",
    "    \"Figure\": [\n",
    "        DATA[\"RC\"][\"i\"], DATA[\"RC\"][\"v_R\"], DATA[\"RC\"][\"v_C\"], DATA[\"RC\"][\"v\"], omega_RC, phi_RC, c\n",
    "    ]\n",
    "}\n",
    "\n",
    "df_calculations_figure_RC = pd.DataFrame(data_calculations_figure_RC)\n",
    "df_calculations_figure_RC"
   ]
  },
  {
   "cell_type": "code",
   "execution_count": 167,
   "metadata": {
    "vscode": {
     "languageId": "javascript"
    }
   },
   "outputs": [
    {
     "data": {
      "text/plain": [
       "(<Quantity(22.6198649, 'degree')>, <Quantity(-36.8698976, 'degree')>)"
      ]
     },
     "execution_count": 167,
     "metadata": {},
     "output_type": "execute_result"
    }
   ],
   "source": [
    "phi_RL_deg = np.degrees(phi)\n",
    "phi_RC_deg = np.degrees(phi_RC)\n",
    "phi_RL_deg, phi_RC_deg"
   ]
  },
  {
   "cell_type": "code",
   "execution_count": 185,
   "metadata": {},
   "outputs": [],
   "source": [
    "\n",
    "\n",
    "# Save all figures under output_plots/\n",
    "output_dir = 'output_plots'\n",
    "if not os.path.exists(output_dir):\n",
    "    os.makedirs(output_dir)\n",
    "\n",
    "# Save RL circuit phasor diagram\n",
    "plt.figure(figsize=(10, 5))\n",
    "plt.quiver(0, 0, DATA[\"RL\"][\"v_R\"].magnitude, 0, angles='xy', scale_units='xy', scale=1, color='r', label='v_R')\n",
    "plt.quiver(DATA[\"RL\"][\"v_R\"].magnitude+v_R_L.magnitude, 0, 0, v_L, angles='xy', scale_units='xy', scale=1, color='b', label=\"v_L\")\n",
    "plt.quiver(DATA[\"RL\"][\"v_R\"].magnitude, 0, v_R_L.magnitude, 0, angles='xy', scale_units='xy', scale=1, color='m', label='v_RL')\n",
    "plt.quiver(0, 0, DATA[\"RL\"][\"v\"].magnitude * np.cos(phi_RL_deg), DATA[\"RL\"][\"v\"].magnitude * np.sin(phi_RL_deg), angles='xy', scale_units='xy', scale=1, color='g', label='v')\n",
    "plt.annotate(f'$\\phi = $ {phi_RL_deg:.2f}', xy=(DATA[\"RL\"][\"v_R\"].magnitude / 2, 0), xytext=(DATA[\"RL\"][\"v_R\"].magnitude / 2, -5), arrowprops=dict(facecolor='black', shrink=0.05))\n",
    "plt.xlim(-10, 70)\n",
    "plt.ylim(-30, 30)\n",
    "plt.xlabel('x')\n",
    "plt.ylabel('y')\n",
    "plt.title('Phasor Diagram for RL Circuit with Angles')\n",
    "plt.legend()\n",
    "plt.grid()\n",
    "plt.savefig(os.path.join(output_dir, 'phasor_diagram_RL.png'), dpi=300)\n",
    "plt.close()\n",
    "\n",
    "# Save RC circuit phasor diagram\n",
    "plt.figure(figsize=(10, 5))\n",
    "plt.quiver(0, 0, DATA[\"RC\"][\"v_R\"].magnitude, 0, angles='xy', scale_units='xy', scale=1, color='r', label='v_R')\n",
    "plt.quiver(DATA[\"RC\"][\"v_R\"].magnitude, 0, 0, -DATA[\"RC\"][\"v_C\"].magnitude, angles='xy', scale_units='xy', scale=1, color='b', label='v_C')\n",
    "plt.quiver(0, 0, DATA[\"RC\"][\"v\"].magnitude * np.cos(phi_RC_deg), DATA[\"RC\"][\"v\"].magnitude * np.sin(phi_RC_deg), angles='xy', scale_units='xy', scale=1, color='g', label='v')\n",
    "plt.annotate(f'$\\phi = $ {phi_RC_deg:.2f}', xy=(DATA[\"RC\"][\"v_R\"].magnitude / 2, 0), xytext=(DATA[\"RC\"][\"v_R\"].magnitude / 2, -5), arrowprops=dict(facecolor='black', shrink=0.05))\n",
    "plt.xlim(-10, 70)\n",
    "plt.ylim(-40, 40)\n",
    "plt.xlabel('x')\n",
    "plt.ylabel('y')\n",
    "plt.title('Phasor Diagram for RC Circuit with Angles')\n",
    "plt.legend()\n",
    "plt.grid()\n",
    "plt.savefig(os.path.join(output_dir, 'phasor_diagram_RC.png'), dpi=300)\n",
    "plt.close()"
   ]
  }
 ],
 "metadata": {
  "kernelspec": {
   "display_name": "venv",
   "language": "python",
   "name": "python3"
  },
  "language_info": {
   "codemirror_mode": {
    "name": "ipython",
    "version": 3
   },
   "file_extension": ".py",
   "mimetype": "text/x-python",
   "name": "python",
   "nbconvert_exporter": "python",
   "pygments_lexer": "ipython3",
   "version": "3.11.6"
  }
 },
 "nbformat": 4,
 "nbformat_minor": 2
}
