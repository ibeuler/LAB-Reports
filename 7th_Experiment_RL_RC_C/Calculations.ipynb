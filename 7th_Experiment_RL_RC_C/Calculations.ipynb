{
 "cells": [
  {
   "cell_type": "code",
   "execution_count": 1,
   "metadata": {},
   "outputs": [],
   "source": [
    "import numpy as np\n",
    "import matplotlib.pyplot as plt\n",
    "import os\n",
    "import pandas as pd\n",
    "import itertools\n",
    "from scipy.optimize import curve_fit\n",
    "import pint"
   ]
  },
  {
   "cell_type": "code",
   "execution_count": 2,
   "metadata": {},
   "outputs": [],
   "source": [
    "unit = pint.UnitRegistry()\n",
    "DATA = {\n",
    "    \"RL\": {\n",
    "        \"i\": 0.2 * unit.ampere,\n",
    "        \"v_R\": 43.7 * unit.volt,\n",
    "        \"v_L\": 26.0 * unit.volt,\n",
    "        \"v\": 60.0 * unit.volt,\n",
    "    },\n",
    "    \"RC\": {\n",
    "        \"i\": 0.6 * unit.ampere,\n",
    "        \"v_R\": 40.0 * unit.volt,\n",
    "        \"v_C\": 30.0 * unit.volt,\n",
    "        \"v\": 50.0 * unit.volt,\n",
    "    },\n",
    "}"
   ]
  },
  {
   "cell_type": "code",
   "execution_count": 3,
   "metadata": {},
   "outputs": [
    {
     "data": {
      "text/html": [
       "11.5 volt"
      ],
      "text/latex": [
       "$11.5\\ \\mathrm{volt}$"
      ],
      "text/plain": [
       "<Quantity(11.5, 'volt')>"
      ]
     },
     "execution_count": 3,
     "metadata": {},
     "output_type": "execute_result"
    }
   ],
   "source": [
    "v_R_L = 2.3*5 * unit.volt\n",
    "v_R_L"
   ]
  },
  {
   "cell_type": "code",
   "execution_count": 4,
   "metadata": {},
   "outputs": [
    {
     "data": {
      "text/html": [
       "314.1592653589793 1/second"
      ],
      "text/latex": [
       "$314.1592653589793\\ \\frac{1}{\\mathrm{second}}$"
      ],
      "text/plain": [
       "<Quantity(314.159265, '1 / second')>"
      ]
     },
     "execution_count": 4,
     "metadata": {},
     "output_type": "execute_result"
    }
   ],
   "source": [
    "omega = (2*np.pi*50*unit.hertz).to(1/unit.second) # angular frequency of the AC source\n",
    "omega.to(1/unit.second)"
   ]
  },
  {
   "cell_type": "code",
   "execution_count": 1,
   "metadata": {},
   "outputs": [
    {
     "ename": "NameError",
     "evalue": "name 'unit' is not defined",
     "output_type": "error",
     "traceback": [
      "\u001b[1;31m---------------------------------------------------------------------------\u001b[0m",
      "\u001b[1;31mNameError\u001b[0m                                 Traceback (most recent call last)",
      "Cell \u001b[1;32mIn[1], line 1\u001b[0m\n\u001b[1;32m----> 1\u001b[0m v_L \u001b[38;5;241m=\u001b[39m (\u001b[38;5;241m4.6\u001b[39m\u001b[38;5;241m*\u001b[39m\u001b[38;5;241m5\u001b[39m) \u001b[38;5;241m*\u001b[39m \u001b[43munit\u001b[49m\u001b[38;5;241m.\u001b[39mvolt \n\u001b[0;32m      2\u001b[0m v_L\n",
      "\u001b[1;31mNameError\u001b[0m: name 'unit' is not defined"
     ]
    }
   ],
   "source": [
    "v_L = (4.6*5) * unit.volt \n",
    "v_L"
   ]
  },
  {
   "cell_type": "code",
   "execution_count": 27,
   "metadata": {},
   "outputs": [
    {
     "data": {
      "text/html": [
       "0.36605636911135925 henry"
      ],
      "text/latex": [
       "$0.36605636911135925\\ \\mathrm{henry}$"
      ],
      "text/plain": [
       "<Quantity(0.366056369, 'henry')>"
      ]
     },
     "execution_count": 27,
     "metadata": {},
     "output_type": "execute_result"
    }
   ],
   "source": [
    "L = v_L / (DATA[\"RL\"][\"i\"] * omega)\n",
    "L.to(unit.henry)"
   ]
  },
  {
   "cell_type": "code",
   "execution_count": 21,
   "metadata": {},
   "outputs": [
    {
     "data": {
      "text/html": [
       "115.0 ohm"
      ],
      "text/latex": [
       "$115.0\\ \\mathrm{ohm}$"
      ],
      "text/plain": [
       "<Quantity(115.0, 'ohm')>"
      ]
     },
     "execution_count": 21,
     "metadata": {},
     "output_type": "execute_result"
    }
   ],
   "source": [
    "Z = omega * L\n",
    "Z.to(unit.ohm)"
   ]
  },
  {
   "cell_type": "code",
   "execution_count": 22,
   "metadata": {},
   "outputs": [
    {
     "data": {
      "text/html": [
       "218.5 volt/ampere"
      ],
      "text/latex": [
       "$218.5\\ \\frac{\\mathrm{volt}}{\\mathrm{ampere}}$"
      ],
      "text/plain": [
       "<Quantity(218.5, 'volt / ampere')>"
      ]
     },
     "execution_count": 22,
     "metadata": {},
     "output_type": "execute_result"
    }
   ],
   "source": [
    "R = DATA[\"RL\"][\"v_R\"] / DATA[\"RL\"][\"i\"]\n",
    "R"
   ]
  },
  {
   "cell_type": "code",
   "execution_count": 23,
   "metadata": {},
   "outputs": [
    {
     "data": {
      "text/html": [
       "57.5 volt/ampere"
      ],
      "text/latex": [
       "$57.5\\ \\frac{\\mathrm{volt}}{\\mathrm{ampere}}$"
      ],
      "text/plain": [
       "<Quantity(57.5, 'volt / ampere')>"
      ]
     },
     "execution_count": 23,
     "metadata": {},
     "output_type": "execute_result"
    }
   ],
   "source": [
    "R_L = v_R_L / DATA[\"RL\"][\"i\"] \n",
    "R_L"
   ]
  },
  {
   "cell_type": "code",
   "execution_count": null,
   "metadata": {},
   "outputs": [],
   "source": []
  },
  {
   "cell_type": "code",
   "execution_count": 24,
   "metadata": {},
   "outputs": [
    {
     "data": {
      "text/html": [
       "0.3947911196997615 radian"
      ],
      "text/latex": [
       "$0.3947911196997615\\ \\mathrm{radian}$"
      ],
      "text/plain": [
       "<Quantity(0.39479112, 'radian')>"
      ]
     },
     "execution_count": 24,
     "metadata": {},
     "output_type": "execute_result"
    }
   ],
   "source": [
    "phi = np.arctan(v_L / (DATA[\"RL\"][\"v_R\"] + v_R_L))\n",
    "phi"
   ]
  },
  {
   "cell_type": "code",
   "execution_count": 25,
   "metadata": {},
   "outputs": [
    {
     "data": {
      "text/html": [
       "1.1071487177940904 radian"
      ],
      "text/latex": [
       "$1.1071487177940904\\ \\mathrm{radian}$"
      ],
      "text/plain": [
       "<Quantity(1.10714872, 'radian')>"
      ]
     },
     "execution_count": 25,
     "metadata": {},
     "output_type": "execute_result"
    }
   ],
   "source": [
    "phi = np.arctan(omega * (L / R_L))\n",
    "phi"
   ]
  },
  {
   "cell_type": "code",
   "execution_count": 26,
   "metadata": {},
   "outputs": [
    {
     "data": {
      "text/html": [
       "(4.890263943848619e-17+0.7986407096729295j) henry"
      ],
      "text/latex": [
       "$(4.890263943848619\\times 10^{-17}+0.7986407096729295j)\\ \\mathrm{henry}$"
      ],
      "text/plain": [
       "<Quantity((4.890263943848619e-17+0.7986407096729295j), 'henry')>"
      ]
     },
     "execution_count": 26,
     "metadata": {},
     "output_type": "execute_result"
    }
   ],
   "source": [
    "L = (1/omega) * (Z**2 - (R+R_L)**2)**0.5\n",
    "L.to(unit.henry)"
   ]
  },
  {
   "cell_type": "code",
   "execution_count": 13,
   "metadata": {},
   "outputs": [
    {
     "data": {
      "text/html": [
       "50.0 volt"
      ],
      "text/latex": [
       "$50.0\\ \\mathrm{volt}$"
      ],
      "text/plain": [
       "<Quantity(50.0, 'volt')>"
      ]
     },
     "execution_count": 13,
     "metadata": {},
     "output_type": "execute_result"
    }
   ],
   "source": [
    "v_RC = np.sqrt(DATA[\"RC\"][\"v_R\"]**2 + DATA[\"RC\"][\"v_C\"]**2)\n",
    "v_RC"
   ]
  },
  {
   "cell_type": "code",
   "execution_count": null,
   "metadata": {},
   "outputs": [],
   "source": []
  },
  {
   "cell_type": "code",
   "execution_count": null,
   "metadata": {},
   "outputs": [],
   "source": []
  }
 ],
 "metadata": {
  "kernelspec": {
   "display_name": "venv",
   "language": "python",
   "name": "python3"
  },
  "language_info": {
   "codemirror_mode": {
    "name": "ipython",
    "version": 3
   },
   "file_extension": ".py",
   "mimetype": "text/x-python",
   "name": "python",
   "nbconvert_exporter": "python",
   "pygments_lexer": "ipython3",
   "version": "3.11.6"
  }
 },
 "nbformat": 4,
 "nbformat_minor": 2
}
