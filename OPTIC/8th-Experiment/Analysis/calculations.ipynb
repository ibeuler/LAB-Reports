{
 "cells": [
  {
   "cell_type": "code",
   "execution_count": 36,
   "id": "9663d5fd",
   "metadata": {},
   "outputs": [],
   "source": [
    "import pandas as pd\n",
    "import numpy as np\n",
    "\n"
   ]
  },
  {
   "cell_type": "code",
   "execution_count": 37,
   "id": "0f2be76c",
   "metadata": {},
   "outputs": [
    {
     "data": {
      "text/html": [
       "<div>\n",
       "<style scoped>\n",
       "    .dataframe tbody tr th:only-of-type {\n",
       "        vertical-align: middle;\n",
       "    }\n",
       "\n",
       "    .dataframe tbody tr th {\n",
       "        vertical-align: top;\n",
       "    }\n",
       "\n",
       "    .dataframe thead th {\n",
       "        text-align: right;\n",
       "    }\n",
       "</style>\n",
       "<table border=\"1\" class=\"dataframe\">\n",
       "  <thead>\n",
       "    <tr style=\"text-align: right;\">\n",
       "      <th></th>\n",
       "      <th>color</th>\n",
       "      <th>lambda</th>\n",
       "      <th>case1</th>\n",
       "      <th>case2</th>\n",
       "    </tr>\n",
       "  </thead>\n",
       "  <tbody>\n",
       "    <tr>\n",
       "      <th>0</th>\n",
       "      <td>Red</td>\n",
       "      <td>7065</td>\n",
       "      <td>155.6</td>\n",
       "      <td>112.6</td>\n",
       "    </tr>\n",
       "    <tr>\n",
       "      <th>1</th>\n",
       "      <td>Burgundy red</td>\n",
       "      <td>6678</td>\n",
       "      <td>155.6</td>\n",
       "      <td>112.4</td>\n",
       "    </tr>\n",
       "    <tr>\n",
       "      <th>2</th>\n",
       "      <td>Yellow</td>\n",
       "      <td>5875</td>\n",
       "      <td>155.6</td>\n",
       "      <td>112.0</td>\n",
       "    </tr>\n",
       "    <tr>\n",
       "      <th>3</th>\n",
       "      <td>Green</td>\n",
       "      <td>5015</td>\n",
       "      <td>155.6</td>\n",
       "      <td>111.4</td>\n",
       "    </tr>\n",
       "    <tr>\n",
       "      <th>4</th>\n",
       "      <td>Pine green</td>\n",
       "      <td>4921</td>\n",
       "      <td>155.6</td>\n",
       "      <td>111.3</td>\n",
       "    </tr>\n",
       "    <tr>\n",
       "      <th>5</th>\n",
       "      <td>Blue</td>\n",
       "      <td>4713</td>\n",
       "      <td>155.6</td>\n",
       "      <td>111.0</td>\n",
       "    </tr>\n",
       "    <tr>\n",
       "      <th>6</th>\n",
       "      <td>Violet</td>\n",
       "      <td>4471</td>\n",
       "      <td>155.6</td>\n",
       "      <td>110.6</td>\n",
       "    </tr>\n",
       "  </tbody>\n",
       "</table>\n",
       "</div>"
      ],
      "text/plain": [
       "           color  lambda  case1  case2\n",
       "0           Red     7065  155.6  112.6\n",
       "1  Burgundy red     6678  155.6  112.4\n",
       "2        Yellow     5875  155.6  112.0\n",
       "3         Green     5015  155.6  111.4\n",
       "4    Pine green     4921  155.6  111.3\n",
       "5          Blue     4713  155.6  111.0\n",
       "6         Violet    4471  155.6  110.6"
      ]
     },
     "execution_count": 37,
     "metadata": {},
     "output_type": "execute_result"
    }
   ],
   "source": [
    "DATA_Apex = pd.read_csv('../DATA/data_for_apex.csv')\n",
    "DATA_Lambda_n = pd.read_csv('../DATA/data_lambda_n.csv')\n",
    "\n",
    "# DATA_Lambda_n[\"case1\"] = 152.6\n",
    "DATA_Lambda_n"
   ]
  },
  {
   "cell_type": "code",
   "execution_count": 38,
   "id": "4aa54546",
   "metadata": {},
   "outputs": [],
   "source": [
    "DATA_Apex[\"A\"] = round(180-360+DATA_Apex[\"case2\"] - DATA_Apex[\"case1\"],1)"
   ]
  },
  {
   "cell_type": "code",
   "execution_count": 39,
   "id": "72abeed1",
   "metadata": {},
   "outputs": [
    {
     "data": {
      "text/html": [
       "<div>\n",
       "<style scoped>\n",
       "    .dataframe tbody tr th:only-of-type {\n",
       "        vertical-align: middle;\n",
       "    }\n",
       "\n",
       "    .dataframe tbody tr th {\n",
       "        vertical-align: top;\n",
       "    }\n",
       "\n",
       "    .dataframe thead th {\n",
       "        text-align: right;\n",
       "    }\n",
       "</style>\n",
       "<table border=\"1\" class=\"dataframe\">\n",
       "  <thead>\n",
       "    <tr style=\"text-align: right;\">\n",
       "      <th></th>\n",
       "      <th>itteration</th>\n",
       "      <th>case1</th>\n",
       "      <th>case2</th>\n",
       "      <th>A</th>\n",
       "    </tr>\n",
       "  </thead>\n",
       "  <tbody>\n",
       "    <tr>\n",
       "      <th>0</th>\n",
       "      <td>1</td>\n",
       "      <td>120.1</td>\n",
       "      <td>359.8</td>\n",
       "      <td>59.7</td>\n",
       "    </tr>\n",
       "    <tr>\n",
       "      <th>1</th>\n",
       "      <td>2</td>\n",
       "      <td>119.9</td>\n",
       "      <td>359.5</td>\n",
       "      <td>59.6</td>\n",
       "    </tr>\n",
       "    <tr>\n",
       "      <th>2</th>\n",
       "      <td>3</td>\n",
       "      <td>119.5</td>\n",
       "      <td>359.5</td>\n",
       "      <td>60.0</td>\n",
       "    </tr>\n",
       "  </tbody>\n",
       "</table>\n",
       "</div>"
      ],
      "text/plain": [
       "   itteration  case1  case2     A\n",
       "0           1  120.1  359.8  59.7\n",
       "1           2  119.9  359.5  59.6\n",
       "2           3  119.5  359.5  60.0"
      ]
     },
     "execution_count": 39,
     "metadata": {},
     "output_type": "execute_result"
    }
   ],
   "source": [
    "DATA_Apex"
   ]
  },
  {
   "cell_type": "markdown",
   "id": "c9cae21c",
   "metadata": {},
   "source": [
    "# Apex angle could be taken as $60^\\circ$\n"
   ]
  },
  {
   "cell_type": "code",
   "execution_count": 40,
   "id": "94b607ed",
   "metadata": {},
   "outputs": [
    {
     "data": {
      "text/html": [
       "<div>\n",
       "<style scoped>\n",
       "    .dataframe tbody tr th:only-of-type {\n",
       "        vertical-align: middle;\n",
       "    }\n",
       "\n",
       "    .dataframe tbody tr th {\n",
       "        vertical-align: top;\n",
       "    }\n",
       "\n",
       "    .dataframe thead th {\n",
       "        text-align: right;\n",
       "    }\n",
       "</style>\n",
       "<table border=\"1\" class=\"dataframe\">\n",
       "  <thead>\n",
       "    <tr style=\"text-align: right;\">\n",
       "      <th></th>\n",
       "      <th>color</th>\n",
       "      <th>lambda</th>\n",
       "      <th>case1</th>\n",
       "      <th>case2</th>\n",
       "      <th>delta_min</th>\n",
       "    </tr>\n",
       "  </thead>\n",
       "  <tbody>\n",
       "    <tr>\n",
       "      <th>0</th>\n",
       "      <td>Red</td>\n",
       "      <td>7065</td>\n",
       "      <td>155.6</td>\n",
       "      <td>112.6</td>\n",
       "      <td>165.2</td>\n",
       "    </tr>\n",
       "    <tr>\n",
       "      <th>1</th>\n",
       "      <td>Burgundy red</td>\n",
       "      <td>6678</td>\n",
       "      <td>155.6</td>\n",
       "      <td>112.4</td>\n",
       "      <td>164.8</td>\n",
       "    </tr>\n",
       "    <tr>\n",
       "      <th>2</th>\n",
       "      <td>Yellow</td>\n",
       "      <td>5875</td>\n",
       "      <td>155.6</td>\n",
       "      <td>112.0</td>\n",
       "      <td>164.0</td>\n",
       "    </tr>\n",
       "    <tr>\n",
       "      <th>3</th>\n",
       "      <td>Green</td>\n",
       "      <td>5015</td>\n",
       "      <td>155.6</td>\n",
       "      <td>111.4</td>\n",
       "      <td>162.8</td>\n",
       "    </tr>\n",
       "    <tr>\n",
       "      <th>4</th>\n",
       "      <td>Pine green</td>\n",
       "      <td>4921</td>\n",
       "      <td>155.6</td>\n",
       "      <td>111.3</td>\n",
       "      <td>162.6</td>\n",
       "    </tr>\n",
       "    <tr>\n",
       "      <th>5</th>\n",
       "      <td>Blue</td>\n",
       "      <td>4713</td>\n",
       "      <td>155.6</td>\n",
       "      <td>111.0</td>\n",
       "      <td>162.0</td>\n",
       "    </tr>\n",
       "    <tr>\n",
       "      <th>6</th>\n",
       "      <td>Violet</td>\n",
       "      <td>4471</td>\n",
       "      <td>155.6</td>\n",
       "      <td>110.6</td>\n",
       "      <td>161.2</td>\n",
       "    </tr>\n",
       "  </tbody>\n",
       "</table>\n",
       "</div>"
      ],
      "text/plain": [
       "           color  lambda  case1  case2  delta_min\n",
       "0           Red     7065  155.6  112.6      165.2\n",
       "1  Burgundy red     6678  155.6  112.4      164.8\n",
       "2        Yellow     5875  155.6  112.0      164.0\n",
       "3         Green     5015  155.6  111.4      162.8\n",
       "4    Pine green     4921  155.6  111.3      162.6\n",
       "5          Blue     4713  155.6  111.0      162.0\n",
       "6         Violet    4471  155.6  110.6      161.2"
      ]
     },
     "execution_count": 40,
     "metadata": {},
     "output_type": "execute_result"
    }
   ],
   "source": [
    "Apex_angle = 60\n",
    "DATA_Lambda_n[\"delta_min\"] = 2*(DATA_Lambda_n[\"case2\"])- Apex_angle\n",
    "DATA_Lambda_n"
   ]
  },
  {
   "cell_type": "code",
   "execution_count": 41,
   "id": "449109fd",
   "metadata": {},
   "outputs": [
    {
     "data": {
      "text/html": [
       "<div>\n",
       "<style scoped>\n",
       "    .dataframe tbody tr th:only-of-type {\n",
       "        vertical-align: middle;\n",
       "    }\n",
       "\n",
       "    .dataframe tbody tr th {\n",
       "        vertical-align: top;\n",
       "    }\n",
       "\n",
       "    .dataframe thead th {\n",
       "        text-align: right;\n",
       "    }\n",
       "</style>\n",
       "<table border=\"1\" class=\"dataframe\">\n",
       "  <thead>\n",
       "    <tr style=\"text-align: right;\">\n",
       "      <th></th>\n",
       "      <th>color</th>\n",
       "      <th>lambda</th>\n",
       "      <th>case1</th>\n",
       "      <th>case2</th>\n",
       "      <th>delta_min</th>\n",
       "      <th>n_p</th>\n",
       "    </tr>\n",
       "  </thead>\n",
       "  <tbody>\n",
       "    <tr>\n",
       "      <th>0</th>\n",
       "      <td>Red</td>\n",
       "      <td>706.5</td>\n",
       "      <td>155.6</td>\n",
       "      <td>112.6</td>\n",
       "      <td>165.2</td>\n",
       "      <td>1.846420</td>\n",
       "    </tr>\n",
       "    <tr>\n",
       "      <th>1</th>\n",
       "      <td>Burgundy red</td>\n",
       "      <td>667.8</td>\n",
       "      <td>155.6</td>\n",
       "      <td>112.4</td>\n",
       "      <td>164.8</td>\n",
       "      <td>1.849092</td>\n",
       "    </tr>\n",
       "    <tr>\n",
       "      <th>2</th>\n",
       "      <td>Yellow</td>\n",
       "      <td>587.5</td>\n",
       "      <td>155.6</td>\n",
       "      <td>112.0</td>\n",
       "      <td>164.0</td>\n",
       "      <td>1.854368</td>\n",
       "    </tr>\n",
       "    <tr>\n",
       "      <th>3</th>\n",
       "      <td>Green</td>\n",
       "      <td>501.5</td>\n",
       "      <td>155.6</td>\n",
       "      <td>111.4</td>\n",
       "      <td>162.8</td>\n",
       "      <td>1.862112</td>\n",
       "    </tr>\n",
       "    <tr>\n",
       "      <th>4</th>\n",
       "      <td>Pine green</td>\n",
       "      <td>492.1</td>\n",
       "      <td>155.6</td>\n",
       "      <td>111.3</td>\n",
       "      <td>162.6</td>\n",
       "      <td>1.863382</td>\n",
       "    </tr>\n",
       "    <tr>\n",
       "      <th>5</th>\n",
       "      <td>Blue</td>\n",
       "      <td>471.3</td>\n",
       "      <td>155.6</td>\n",
       "      <td>111.0</td>\n",
       "      <td>162.0</td>\n",
       "      <td>1.867161</td>\n",
       "    </tr>\n",
       "    <tr>\n",
       "      <th>6</th>\n",
       "      <td>Violet</td>\n",
       "      <td>447.1</td>\n",
       "      <td>155.6</td>\n",
       "      <td>110.6</td>\n",
       "      <td>161.2</td>\n",
       "      <td>1.872119</td>\n",
       "    </tr>\n",
       "  </tbody>\n",
       "</table>\n",
       "</div>"
      ],
      "text/plain": [
       "           color  lambda  case1  case2  delta_min       n_p\n",
       "0           Red    706.5  155.6  112.6      165.2  1.846420\n",
       "1  Burgundy red    667.8  155.6  112.4      164.8  1.849092\n",
       "2        Yellow    587.5  155.6  112.0      164.0  1.854368\n",
       "3         Green    501.5  155.6  111.4      162.8  1.862112\n",
       "4    Pine green    492.1  155.6  111.3      162.6  1.863382\n",
       "5          Blue    471.3  155.6  111.0      162.0  1.867161\n",
       "6         Violet   447.1  155.6  110.6      161.2  1.872119"
      ]
     },
     "execution_count": 41,
     "metadata": {},
     "output_type": "execute_result"
    }
   ],
   "source": [
    "DATA_Lambda_n[\"n_p\"] = np.sin((np.radians(DATA_Lambda_n[\"delta_min\"]+ Apex_angle)/2)) / np.sin(np.radians(Apex_angle/2))\n",
    "DATA_Lambda_n[\"lambda\"] = round(DATA_Lambda_n[\"lambda\"]*10**-1, 2)\n",
    "DATA_Lambda_n"
   ]
  },
  {
   "cell_type": "code",
   "execution_count": 42,
   "id": "6a120e9d",
   "metadata": {},
   "outputs": [],
   "source": [
    "import matplotlib.pyplot as plt"
   ]
  },
  {
   "cell_type": "code",
   "execution_count": 43,
   "id": "6cedbfc9",
   "metadata": {},
   "outputs": [
    {
     "name": "stdout",
     "output_type": "stream",
     "text": [
      "A = 1.83022\n",
      "B = 8.20694e+03\n"
     ]
    },
    {
     "data": {
      "image/png": "[encoded data removed]",
      "text/plain": [
       "<Figure size 640x480 with 1 Axes>"
      ]
     },
     "metadata": {},
     "output_type": "display_data"
    }
   ],
   "source": [
    "# regression line for n_p\n",
    "from sklearn.linear_model import LinearRegression\n",
    "X = (1/(DATA_Lambda_n[\"lambda\"])**2).values.reshape(-1, 1)\n",
    "y = DATA_Lambda_n[\"n_p\"].values\n",
    "model = LinearRegression()\n",
    "model.fit(X, y)\n",
    "# Predicted values\n",
    "lambdaspace = np.linspace(DATA_Lambda_n[\"lambda\"].min(), DATA_Lambda_n[\"lambda\"].max(), 1000).reshape(-1, 1)\n",
    "n_pred = model.predict((1/(lambdaspace)**2))\n",
    "# parameteres of the regression line\n",
    "slope = model.coef_[0]\n",
    "intercept = model.intercept_\n",
    "plt.plot(DATA_Lambda_n[\"lambda\"], DATA_Lambda_n[\"n_p\"], 'o', label='$n_p$')\n",
    "plt.plot(lambdaspace, n_pred, '-', label=f'n = ({format(slope,\".3e\")})$\\\\frac{{1}}{{\\\\lambda^2}}$ + {round(intercept,4)} | n = A + B/$\\\\lambda^2$')\n",
    "\n",
    "plt.xlabel('$\\lambda$ (nm)')\n",
    "plt.ylabel('$n_p$')\n",
    "plt.title('$n_p$ vs $\\lambda$')\n",
    "plt.legend()\n",
    "plt.grid()\n",
    "print(f\"A = {round(intercept,5)}\")\n",
    "print(f\"B = {format(slope, '.5e')}\")\n",
    "plt.savefig('../plots/npVSlambda.png', dpi=300, bbox_inches='tight')\n",
    "plt.show()"
   ]
  },
  {
   "cell_type": "code",
   "execution_count": 44,
   "id": "212d4467",
   "metadata": {},
   "outputs": [
    {
     "data": {
      "text/plain": [
       "(np.float64(1.8464204342259622), np.float64(1.872119071477947))"
      ]
     },
     "execution_count": 44,
     "metadata": {},
     "output_type": "execute_result"
    }
   ],
   "source": [
    "DATA_Lambda_n[\"n_p\"].min(), DATA_Lambda_n[\"n_p\"].max()"
   ]
  },
  {
   "cell_type": "code",
   "execution_count": 45,
   "id": "141dec0d",
   "metadata": {},
   "outputs": [
    {
     "data": {
      "text/plain": [
       "(np.float64(447.1), np.float64(706.5))"
      ]
     },
     "execution_count": 45,
     "metadata": {},
     "output_type": "execute_result"
    }
   ],
   "source": [
    "DATA_Lambda_n[\"lambda\"].min(), DATA_Lambda_n[\"lambda\"].max()"
   ]
  },
  {
   "cell_type": "code",
   "execution_count": 46,
   "id": "38fd196f",
   "metadata": {},
   "outputs": [],
   "source": [
    "# save processed data\n",
    "DATA_Lambda_n[\"n_p\"] = DATA_Lambda_n[\"n_p\"].round(4)\n",
    "DATA_Lambda_n.to_csv('../DATA/data_lambda_n_processed.csv', index=False)\n",
    "# save processed data for Apex\n",
    "DATA_Apex.to_csv('../DATA/data_for_apex_processed.csv', index=False)"
   ]
  },
  {
   "cell_type": "code",
   "execution_count": null,
   "id": "8b2c2785",
   "metadata": {},
   "outputs": [],
   "source": []
  },
  {
   "cell_type": "code",
   "execution_count": null,
   "id": "3984b76c",
   "metadata": {},
   "outputs": [],
   "source": []
  },
  {
   "cell_type": "code",
   "execution_count": null,
   "id": "23ba4927",
   "metadata": {},
   "outputs": [],
   "source": []
  },
  {
   "cell_type": "code",
   "execution_count": null,
   "id": "1ea5a591",
   "metadata": {},
   "outputs": [],
   "source": []
  }
 ],
 "metadata": {
  "kernelspec": {
   "display_name": "venv",
   "language": "python",
   "name": "python3"
  },
  "language_info": {
   "codemirror_mode": {
    "name": "ipython",
    "version": 3
   },
   "file_extension": ".py",
   "mimetype": "text/x-python",
   "name": "python",
   "nbconvert_exporter": "python",
   "pygments_lexer": "ipython3",
   "version": "3.11.6"
  }
 },
 "nbformat": 4,
 "nbformat_minor": 5
}
