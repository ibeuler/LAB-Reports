{
 "cells": [
  {
   "cell_type": "code",
   "execution_count": 6,
   "metadata": {},
   "outputs": [
    {
     "name": "stdout",
     "output_type": "stream",
     "text": [
      "Defaulting to user installation because normal site-packages is not writeable\n",
      "Collecting pint\n",
      "  Downloading Pint-0.24.4-py3-none-any.whl.metadata (8.5 kB)\n",
      "Requirement already satisfied: platformdirs>=2.1.0 in /home/ibeuler/.local/lib/python3.10/site-packages (from pint) (4.3.6)\n",
      "Requirement already satisfied: typing-extensions>=4.0.0 in /home/ibeuler/.local/lib/python3.10/site-packages (from pint) (4.12.2)\n",
      "Collecting flexcache>=0.3 (from pint)\n",
      "  Downloading flexcache-0.3-py3-none-any.whl.metadata (7.0 kB)\n",
      "Collecting flexparser>=0.4 (from pint)\n",
      "  Downloading flexparser-0.4-py3-none-any.whl.metadata (18 kB)\n",
      "Downloading Pint-0.24.4-py3-none-any.whl (302 kB)\n",
      "Downloading flexcache-0.3-py3-none-any.whl (13 kB)\n",
      "Downloading flexparser-0.4-py3-none-any.whl (27 kB)\n",
      "Installing collected packages: flexparser, flexcache, pint\n",
      "Successfully installed flexcache-0.3 flexparser-0.4 pint-0.24.4\n"
     ]
    }
   ],
   "source": [
    "!pip install pint"
   ]
  },
  {
   "cell_type": "code",
   "execution_count": 1,
   "metadata": {},
   "outputs": [],
   "source": [
    "import numpy as np\n",
    "import pint"
   ]
  },
  {
   "cell_type": "code",
   "execution_count": 2,
   "metadata": {},
   "outputs": [],
   "source": [
    "unit = pint.UnitRegistry()"
   ]
  },
  {
   "cell_type": "markdown",
   "metadata": {},
   "source": [
    "# newtons rings experiment\n"
   ]
  },
  {
   "cell_type": "code",
   "execution_count": 34,
   "metadata": {},
   "outputs": [
    {
     "name": "stdout",
     "output_type": "stream",
     "text": [
      "[0.0027444253859348197 0.002144082332761578 0.002058319039451115 0.0021012006861063463] millimeter ** 2 / nanometer\n",
      "Average R:  2.2620068610634645 meter\n"
     ]
    }
   ],
   "source": [
    "r = np.array([4,5,6,7]) * unit.millimeter\n",
    "r2 = np.array([5,6,7,8]) * unit.millimeter\n",
    "\n",
    "lambda_ = 5830 * unit.nanometer # wavelength of light\n",
    "m = np.array([1,2,3,4]) # order of the ring\n",
    "\n",
    "# curviture of the lens\n",
    "\n",
    "R = r**2 / ((m) * lambda_)\n",
    "R_average = (np.average(R)).to(unit.meter) \n",
    "print(R)\n",
    "print(\"Average R: \", (np.average(R)).to(unit.meter))"
   ]
  },
  {
   "cell_type": "code",
   "execution_count": 35,
   "metadata": {},
   "outputs": [
    {
     "name": "stdout",
     "output_type": "stream",
     "text": [
      "Slope (= lambda*R):  11.0 millimeter ** 2\n",
      "R:  1.8867924528301885 meter\n"
     ]
    }
   ],
   "source": [
    "# slope of r^2 over m graph mathmatically \n",
    "slope = ((r[-1]**2)-(r[0]**2))/(m[-1]-m[0])\n",
    "slope_average = (slope).to(unit.meter**2)\n",
    "print(\"Slope (= lambda*R): \", slope,)\n",
    "# slope of r^2 over m graph experimentally\n",
    "R = (slope/lambda_).to(unit.meter)\n",
    "\n",
    "print(\"R: \", R)"
   ]
  },
  {
   "cell_type": "code",
   "execution_count": null,
   "metadata": {},
   "outputs": [],
   "source": []
  },
  {
   "cell_type": "code",
   "execution_count": null,
   "metadata": {},
   "outputs": [],
   "source": []
  }
 ],
 "metadata": {
  "kernelspec": {
   "display_name": "venv",
   "language": "python",
   "name": "python3"
  },
  "language_info": {
   "codemirror_mode": {
    "name": "ipython",
    "version": 3
   },
   "file_extension": ".py",
   "mimetype": "text/x-python",
   "name": "python",
   "nbconvert_exporter": "python",
   "pygments_lexer": "ipython3",
   "version": "3.11.6"
  }
 },
 "nbformat": 4,
 "nbformat_minor": 4
}
