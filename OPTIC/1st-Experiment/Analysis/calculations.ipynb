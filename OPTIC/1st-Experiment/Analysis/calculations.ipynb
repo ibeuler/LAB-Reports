{
 "cells": [
  {
   "cell_type": "code",
   "execution_count": 3,
   "metadata": {},
   "outputs": [],
   "source": [
    "!pip install pint"
   ]
  },
  {
   "cell_type": "code",
   "execution_count": 4,
   "metadata": {},
   "outputs": [],
   "source": [
    "import numpy as np\n",
    "import pint"
   ]
  },
  {
   "cell_type": "code",
   "execution_count": 5,
   "metadata": {},
   "outputs": [],
   "source": [
    "unit = pint.UnitRegistry()"
   ]
  },
  {
   "cell_type": "markdown",
   "metadata": {},
   "source": [
    "# newtons rings experiment\n"
   ]
  },
  {
   "cell_type": "code",
   "execution_count": null,
   "metadata": {},
   "outputs": [
    {
     "name": "stdout",
     "output_type": "stream",
     "text": [
      "[0.027164685908319185 0.021222410865874362 0.02037351443123939 0.020797962648556875] millimeter ** 2 / nanometer\n",
      "Average R:  22.38964346349745 meter\n"
     ]
    }
   ],
   "source": [
    "r = np.array([4,5,6,7]) * unit.millimeter\n",
    "#r2 = np.array([5,6,7,8]) * unit.millimeter\n",
    "\n",
    "lambda_ = 589 * unit.nanometer # wavelength of light  5890 Å\n",
    "m = np.array([1,2,3,4]) # order of the ring\n",
    "\n",
    "# curviture of the lens\n",
    "\n",
    "R = r**2 / ((m) * lambda_)\n",
    "R_average = (np.average(R)).to(unit.meter) \n",
    "print(R)\n",
    "print(\"Average R: \", (np.average(R)).to(unit.meter))"
   ]
  },
  {
   "cell_type": "code",
   "execution_count": 14,
   "metadata": {},
   "outputs": [
    {
     "name": "stdout",
     "output_type": "stream",
     "text": [
      "Slope (= lambda*R):  11.0 millimeter ** 2\n",
      "R:  18.675721561969436 meter\n"
     ]
    }
   ],
   "source": [
    "# slope of r^2 over m graph mathmatically \n",
    "slope = ((r[-1]**2)-(r[0]**2))/(m[-1]-m[0])\n",
    "slope_average = (slope).to(unit.meter**2)\n",
    "print(\"Slope (= lambda*R): \", slope,)\n",
    "# slope of r^2 over m graph experimentally\n",
    "R = (slope/lambda_).to(unit.meter)\n",
    "\n",
    "print(\"R: \", R)"
   ]
  },
  {
   "cell_type": "code",
   "execution_count": 24,
   "metadata": {},
   "outputs": [
    {
     "name": "stdout",
     "output_type": "stream",
     "text": [
      "lambda:  589.0 nanometer\n",
      "lambda_R_average:  4912.985781990522 angstrom\n"
     ]
    }
   ],
   "source": [
    "# check if the lambda is reversely findable from the slope\n",
    "lambda_ = slope/R\n",
    "print(\"lambda: \", lambda_.to(unit.nanometer))\n",
    "#and from slope and average R\n",
    "lambda_ = slope/R_average\n",
    "print(\"lambda_R_average: \", lambda_.to(unit.angstrom))"
   ]
  },
  {
   "cell_type": "code",
   "execution_count": null,
   "metadata": {},
   "outputs": [],
   "source": []
  }
 ],
 "metadata": {
  "kernelspec": {
   "display_name": "venv",
   "language": "python",
   "name": "python3"
  },
  "language_info": {
   "codemirror_mode": {
    "name": "ipython",
    "version": 3
   },
   "file_extension": ".py",
   "mimetype": "text/x-python",
   "name": "python",
   "nbconvert_exporter": "python",
   "pygments_lexer": "ipython3",
   "version": "3.11.6"
  }
 },
 "nbformat": 4,
 "nbformat_minor": 4
}
