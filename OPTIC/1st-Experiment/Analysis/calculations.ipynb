{
 "cells": [
  {
   "cell_type": "code",
   "execution_count": 6,
   "metadata": {},
   "outputs": [
    {
     "name": "stdout",
     "output_type": "stream",
     "text": [
      "Defaulting to user installation because normal site-packages is not writeable\n",
      "Collecting pint\n",
      "  Downloading Pint-0.24.4-py3-none-any.whl.metadata (8.5 kB)\n",
      "Requirement already satisfied: platformdirs>=2.1.0 in /home/ibeuler/.local/lib/python3.10/site-packages (from pint) (4.3.6)\n",
      "Requirement already satisfied: typing-extensions>=4.0.0 in /home/ibeuler/.local/lib/python3.10/site-packages (from pint) (4.12.2)\n",
      "Collecting flexcache>=0.3 (from pint)\n",
      "  Downloading flexcache-0.3-py3-none-any.whl.metadata (7.0 kB)\n",
      "Collecting flexparser>=0.4 (from pint)\n",
      "  Downloading flexparser-0.4-py3-none-any.whl.metadata (18 kB)\n",
      "Downloading Pint-0.24.4-py3-none-any.whl (302 kB)\n",
      "Downloading flexcache-0.3-py3-none-any.whl (13 kB)\n",
      "Downloading flexparser-0.4-py3-none-any.whl (27 kB)\n",
      "Installing collected packages: flexparser, flexcache, pint\n",
      "Successfully installed flexcache-0.3 flexparser-0.4 pint-0.24.4\n"
     ]
    }
   ],
   "source": [
    "!pip install pint"
   ]
  },
  {
   "cell_type": "code",
   "execution_count": 2,
   "metadata": {},
   "outputs": [],
   "source": [
    "import numpy as np\n",
    "import pint"
   ]
  },
  {
   "cell_type": "code",
   "execution_count": 3,
   "metadata": {},
   "outputs": [],
   "source": [
    "unit = pint.UnitRegistry()"
   ]
  },
  {
   "cell_type": "markdown",
   "metadata": {},
   "source": [
    "# newtons rings experiment\n"
   ]
  },
  {
   "cell_type": "code",
   "execution_count": 4,
   "metadata": {},
   "outputs": [
    {
     "name": "stdout",
     "output_type": "stream",
     "text": [
      "[0.0027444253859348197 0.002144082332761578 0.002058319039451115 0.0021012006861063463] millimeter ** 2 / nanometer\n",
      "2.2620068610634645 meter\n"
     ]
    }
   ],
   "source": [
    "r = np.array([4,5,6,7]) * unit.millimeter\n",
    "lambda_ = 5830 * unit.nanometer # wavelength of light\n",
    "m = np.array([1,2,3,4]) # order of the ring\n",
    "\n",
    "# curviture of the lens\n",
    "\n",
    "R = r**2 / (m * lambda_)\n",
    "R_average = (np.average(R)).to(unit.meter) \n",
    "print(R)\n",
    "print((np.average(R)).to(unit.meter))"
   ]
  },
  {
   "cell_type": "code",
   "execution_count": null,
   "metadata": {},
   "outputs": [],
   "source": []
  }
 ],
 "metadata": {
  "kernelspec": {
   "display_name": "Python 3 (ipykernel)",
   "language": "python",
   "name": "python3"
  },
  "language_info": {
   "codemirror_mode": {
    "name": "ipython",
    "version": 3
   },
   "file_extension": ".py",
   "mimetype": "text/x-python",
   "name": "python",
   "nbconvert_exporter": "python",
   "pygments_lexer": "ipython3",
   "version": "3.10.12"
  }
 },
 "nbformat": 4,
 "nbformat_minor": 4
}
